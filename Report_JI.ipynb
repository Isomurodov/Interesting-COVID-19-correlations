{
  "nbformat": 4,
  "nbformat_minor": 0,
  "metadata": {
    "colab": {
      "name": "Report JI.ipynb",
      "provenance": [],
      "collapsed_sections": []
    },
    "kernelspec": {
      "display_name": "Python 3",
      "language": "python",
      "name": "python3"
    },
    "language_info": {
      "codemirror_mode": {
        "name": "ipython",
        "version": 3
      },
      "file_extension": ".py",
      "mimetype": "text/x-python",
      "name": "python",
      "nbconvert_exporter": "python",
      "pygments_lexer": "ipython3",
      "version": "3.8.2"
    }
  },
  "cells": [
    {
      "cell_type": "markdown",
      "metadata": {
        "id": "sP2RuzsVKuGy"
      },
      "source": [
        "# Data Management ET4015 - Exam report example, May 2021\n",
        "### Group members:\n",
        "- Javokhir Isomurodov, 876613@stud.unive.it, matriculation nr. 876613"
      ]
    },
    {
      "cell_type": "code",
      "metadata": {
        "id": "HVvVGsSGKC4U"
      },
      "source": [
        "#we import all libraries\n",
        "import os # needed to interact with the operating system (e.g. save/load a database)\n",
        "import numpy as np # numerical library (linear algebra)\n",
        "import pandas as pd # table manipulation. Based on numpy\n",
        "from matplotlib import pyplot as plt # plots\n",
        "import seaborn as sns # based on matplotlib. Very powerful plot library\n",
        "import sqlite3 # needed to write SQL code in our notebooks and convert the results into Python tables. \n",
        "\n",
        "try:\n",
        "    os.remove(\"database.db\")\n",
        "except OSError:\n",
        "    pass\n",
        "\n",
        "# the following stuff simplifies the interaction with SQL\n",
        "conn = sqlite3.connect(\"database.db\")\n",
        "cur = conn.cursor()\n",
        "\n",
        "def run_sql(sql_command): # executes a SQL code\n",
        "    cur.execute(sql_command)\n",
        "    conn.commit()\n",
        "    if cur.description != None:\n",
        "        col_names = [i[0] for i in cur.description]\n",
        "        result = pd.DataFrame(cur.fetchall(), columns = col_names)\n",
        "        result\n",
        "        return result\n",
        "\n",
        "def dataframe_to_table(df,table_name): # converts a dataframe into a SQL table in our database.\n",
        "    df.to_sql(table_name, conn, if_exists='replace', index = False)\n",
        "    conn.commit()"
      ],
      "execution_count": null,
      "outputs": []
    },
    {
      "cell_type": "markdown",
      "metadata": {
        "id": "CkPZYSTCLisq"
      },
      "source": [
        "# 1. Introduction\n",
        "\n",
        "This project explores different correlations regarding covid-19. Particularly, it will give interesting insights about relationship between vaccination numbers and covid cases/deaths. Also, there will be observations about the manufacturers of covid vaccines.\n",
        "\n",
        "## 1.1 Datasets\n",
        "\n",
        "We used the following datasets (included as csv files in the project folder):\n",
        "\n",
        "*   https://github.com/datasets/covid-19/blob/main/data/countries-aggregated.csv\n",
        "*   https://developers.google.com/public-data/docs/canonical/countries_csv\n",
        "*   https://www.kaggle.com/tanuprabhu/population-by-country-2020\n",
        "*   https://github.com/owid/covid-19-data/blob/master/public/data/vaccinations/vaccinations-by-manufacturer.csv\n",
        "*   https://github.com/owid/covid-19-data/blob/master/public/data/vaccinations/vaccinations.csv\n",
        "\n",
        "countries.csv is a table containing the names of countries and their latitude and longitude points in the world map.\n",
        "\n",
        "countries-aggregated.csv has been renamed into \"covid.csv\" (to have a shorter name) and is a table containing covid-19 cases per country per day (updated daily).\n",
        "\n",
        "population-by-country.csv has been renamed into \"population.csv\" and columns with country and land area have been renamed to \"country\" and \"area\" respectively.\n",
        "\n",
        "vaccinations.csv has been renamed to \"vax.csv\" and its column \"total_vaccinations\" has been renamed to \"total_vax\", and its column \"location\" has been renamed to \"country\".\n",
        "\n",
        "vaccinations-by-manufacturer.csv has been renamed to \"vax_man\" and its column \"total_vaccinations\" has been renamed to \"total_vax\" and its column \"location\" has been renamed to \"country\".\n",
        "\n",
        "With the following commands we load the datasets into respective dataframes:"
      ]
    },
    {
      "cell_type": "code",
      "metadata": {
        "id": "LgaL6EPQfcc8"
      },
      "source": [
        "countries_df = pd.read_csv(\"countries.csv\")\n",
        "covid_df = pd.read_csv(\"covid.csv\")\n",
        "population_df = pd.read_csv(\"population.csv\")\n",
        "vax_df = pd.read_csv(\"vax.csv\")\n",
        "vax_man_df = pd.read_csv(\"vax_man.csv\")"
      ],
      "execution_count": null,
      "outputs": []
    },
    {
      "cell_type": "markdown",
      "metadata": {
        "id": "cehdipO89L8H"
      },
      "source": [
        "# 2. Database Specification and Logical Design\n",
        "\n",
        "In this section we discuss the database specification and its translation to a relational schema. The ER diagram can be found in the project's folder under the name \"ER.pdf\".\n",
        "\n",
        "## 2.1 Specification\n",
        "\n",
        "The database should store world countries. For each country we want to record a unique identifier (for example, a 2-letters unique identifier), the country name, population, land area (square kilometers), and\n",
        "latitude/longitude. We furthermore want to store records of covid-19 cases. Each record is characterized by a\n",
        "date and some statistics on the number of cumulative covid-19 cases registered up to that day (for example, distinguishing between confirmed, recovered, and deaths). The database should also store vaccination records. Each\n",
        "vaccination record is characterized by a date and some vaccination statistics (for example, cumulative number of\n",
        "vaccines/people vaccinated) up to that day. Each country keeps track of its own covid-19 cases and vaccination\n",
        "records. Finally, we want to store vaccine manufacturers (e.g. Sinovac, Moderna, ...). Countries administer vaccines of one or more manufacturers to their population; for each day (whenever this information is available in\n",
        "the raw data), we want to store the cumulative number of vaccines of a particular manufacturer that have been\n",
        "administered by a country to its population.\n",
        "\n",
        "## 2.2 Logical design\n",
        "\n",
        "The logical design corresponding to our ER diagram is the following:\n",
        "\n",
        "countries(<ins>id</ins>, name, population, area, latitude, longitude)\n",
        "\n",
        "covid_record(<ins>day</ins>, <ins>country</ins>: fk to country(name), confirmed, recovered, deaths)\n",
        "\n",
        "vax_record(<ins>day</ins>, <ins>country</ins>: fk to country(name), total_vax, people_vaccinated)\n",
        "\n",
        "vax_man(<ins>day</ins>, <ins>country</ins>: fk to country(name), <ins>vaccine</ins>, total_vax)\n",
        "\n",
        "We observe that entities covid_record, vax_record and vax_man are weak, thus country has to be part of their key."
      ]
    },
    {
      "cell_type": "markdown",
      "metadata": {
        "id": "UuOV2_3G9L8I"
      },
      "source": [
        "# 3. Physical design\n",
        "\n",
        "With the following SQL commands we create the schema of our database, translating the relational schema of section 2.2. We decided to add the following constraints:\n",
        "\n",
        "covid_record: the number of confirmed covid cases, recoveries and deaths should be >= 0, and we decided to cascade changes (delete/update) made to countries.\n",
        "\n",
        "vax_record: the number of total vaccination (total_vax) and people vaccinated should be >= 0, and we decided to cascade changes (delete/update) made to countries."
      ]
    },
    {
      "cell_type": "code",
      "metadata": {
        "id": "5PZKektS_9GT"
      },
      "source": [
        "run_sql('''\n",
        "CREATE TABLE countries (\n",
        "  id CHAR(2) PRIMARY KEY,\n",
        "  name VARCHAR(50),\n",
        "  population FLOAT,\n",
        "  area FLOAT,\n",
        "  latitude FLOAT,\n",
        "  longitude FLOAT\n",
        ");\n",
        "''');\n",
        "\n",
        "run_sql('''\n",
        "CREATE TABLE covid_record (\n",
        "  day DATE,\n",
        "  country VARCHAR(50) references countries(name) on delete cascade on update cascade,\n",
        "  confirmed FLOAT check (confirmed >= 0),\n",
        "  recovered FLOAT check (confirmed >= 0),\n",
        "  deaths FLOAT check (confirmed >= 0),\n",
        "  primary key(day, country)\n",
        ");\n",
        "''');\n",
        "\n",
        "run_sql('''\n",
        "CREATE TABLE vax_record (\n",
        "  day DATE,\n",
        "  country VARCHAR(50),\n",
        "  total_vax FLOAT check (total_vax >= 0),\n",
        "  people_vaccinated FLOAT check (people_vaccinated >= 0),\n",
        "  primary key(day, country)\n",
        "  foreign key (country) references countries(name) on delete cascade on update cascade\n",
        ");\n",
        "''');\n",
        "\n",
        "run_sql('''\n",
        "CREATE TABLE vax_man (\n",
        "  day DATE,\n",
        "  country VARCHAR(50),\n",
        "  vaccine VARCHAR(40),\n",
        "  total_vax FLOAT check (total_vax >= 0),\n",
        "  primary key(day, country, vaccine)\n",
        "  foreign key (country) references countries(name) on delete cascade on update cascade\n",
        ");\n",
        "''');"
      ],
      "execution_count": null,
      "outputs": []
    },
    {
      "cell_type": "markdown",
      "metadata": {
        "id": "KBbdeHd333Kj"
      },
      "source": [
        "# 4. Data insertion\n",
        "\n",
        "First, we insert the CSV files into temporary SQL tables that will be later processed to create our database. "
      ]
    },
    {
      "cell_type": "code",
      "metadata": {
        "id": "IAafMKGz4Fyy",
        "colab": {
          "base_uri": "https://localhost:8080/"
        },
        "outputId": "93504fa6-1e81-4a03-af50-8f5b0bd3ee50"
      },
      "source": [
        "dataframe_to_table(countries_df,\"countries_tmp\") # create a table named \"countries_tmp\" (tmp stands for \"temporary\") with the content/schema of the dataframe countries_df\n",
        "dataframe_to_table(covid_df,\"covid_tmp\") # create a table named \"covid_tmp\" with the content/schema of the dataframe covid_df\n",
        "dataframe_to_table(population_df,\"population_tmp\")\n",
        "dataframe_to_table(vax_df,\"vax_tmp\")\n",
        "dataframe_to_table(vax_man_df,\"vax_man_tmp\") "
      ],
      "execution_count": null,
      "outputs": [
        {
          "output_type": "stream",
          "name": "stderr",
          "text": [
            "/usr/local/lib/python3.7/dist-packages/pandas/core/generic.py:2615: UserWarning: The spaces in these column names will not be changed. In pandas versions < 0.14, spaces were converted to underscores.\n",
            "  method=method,\n"
          ]
        }
      ]
    },
    {
      "cell_type": "markdown",
      "metadata": {
        "id": "tNSwLNRC9jYr"
      },
      "source": [
        "We check that the SQL temporary tables have been correctly created in our database:"
      ]
    },
    {
      "cell_type": "code",
      "metadata": {
        "colab": {
          "base_uri": "https://localhost:8080/",
          "height": 419
        },
        "id": "A7mCuucF9piP",
        "outputId": "9302edf8-04db-487d-c85b-3036e73b99a2"
      },
      "source": [
        "run_sql(''' \n",
        "SELECT *\n",
        "FROM countries_tmp\n",
        "''')"
      ],
      "execution_count": null,
      "outputs": [
        {
          "output_type": "execute_result",
          "data": {
            "text/html": [
              "<div>\n",
              "<style scoped>\n",
              "    .dataframe tbody tr th:only-of-type {\n",
              "        vertical-align: middle;\n",
              "    }\n",
              "\n",
              "    .dataframe tbody tr th {\n",
              "        vertical-align: top;\n",
              "    }\n",
              "\n",
              "    .dataframe thead th {\n",
              "        text-align: right;\n",
              "    }\n",
              "</style>\n",
              "<table border=\"1\" class=\"dataframe\">\n",
              "  <thead>\n",
              "    <tr style=\"text-align: right;\">\n",
              "      <th></th>\n",
              "      <th>country</th>\n",
              "      <th>latitude</th>\n",
              "      <th>longitude</th>\n",
              "      <th>name</th>\n",
              "    </tr>\n",
              "  </thead>\n",
              "  <tbody>\n",
              "    <tr>\n",
              "      <th>0</th>\n",
              "      <td>AD</td>\n",
              "      <td>42.546245</td>\n",
              "      <td>1.601554</td>\n",
              "      <td>Andorra</td>\n",
              "    </tr>\n",
              "    <tr>\n",
              "      <th>1</th>\n",
              "      <td>AE</td>\n",
              "      <td>23.424076</td>\n",
              "      <td>53.847818</td>\n",
              "      <td>United Arab Emirates</td>\n",
              "    </tr>\n",
              "    <tr>\n",
              "      <th>2</th>\n",
              "      <td>AF</td>\n",
              "      <td>33.939110</td>\n",
              "      <td>67.709953</td>\n",
              "      <td>Afghanistan</td>\n",
              "    </tr>\n",
              "    <tr>\n",
              "      <th>3</th>\n",
              "      <td>AG</td>\n",
              "      <td>17.060816</td>\n",
              "      <td>-61.796428</td>\n",
              "      <td>Antigua and Barbuda</td>\n",
              "    </tr>\n",
              "    <tr>\n",
              "      <th>4</th>\n",
              "      <td>AI</td>\n",
              "      <td>18.220554</td>\n",
              "      <td>-63.068615</td>\n",
              "      <td>Anguilla</td>\n",
              "    </tr>\n",
              "    <tr>\n",
              "      <th>...</th>\n",
              "      <td>...</td>\n",
              "      <td>...</td>\n",
              "      <td>...</td>\n",
              "      <td>...</td>\n",
              "    </tr>\n",
              "    <tr>\n",
              "      <th>240</th>\n",
              "      <td>YE</td>\n",
              "      <td>15.552727</td>\n",
              "      <td>48.516388</td>\n",
              "      <td>Yemen</td>\n",
              "    </tr>\n",
              "    <tr>\n",
              "      <th>241</th>\n",
              "      <td>YT</td>\n",
              "      <td>-12.827500</td>\n",
              "      <td>45.166244</td>\n",
              "      <td>Mayotte</td>\n",
              "    </tr>\n",
              "    <tr>\n",
              "      <th>242</th>\n",
              "      <td>ZA</td>\n",
              "      <td>-30.559482</td>\n",
              "      <td>22.937506</td>\n",
              "      <td>South Africa</td>\n",
              "    </tr>\n",
              "    <tr>\n",
              "      <th>243</th>\n",
              "      <td>ZM</td>\n",
              "      <td>-13.133897</td>\n",
              "      <td>27.849332</td>\n",
              "      <td>Zambia</td>\n",
              "    </tr>\n",
              "    <tr>\n",
              "      <th>244</th>\n",
              "      <td>ZW</td>\n",
              "      <td>-19.015438</td>\n",
              "      <td>29.154857</td>\n",
              "      <td>Zimbabwe</td>\n",
              "    </tr>\n",
              "  </tbody>\n",
              "</table>\n",
              "<p>245 rows × 4 columns</p>\n",
              "</div>"
            ],
            "text/plain": [
              "    country   latitude  longitude                  name\n",
              "0        AD  42.546245   1.601554               Andorra\n",
              "1        AE  23.424076  53.847818  United Arab Emirates\n",
              "2        AF  33.939110  67.709953           Afghanistan\n",
              "3        AG  17.060816 -61.796428   Antigua and Barbuda\n",
              "4        AI  18.220554 -63.068615              Anguilla\n",
              "..      ...        ...        ...                   ...\n",
              "240      YE  15.552727  48.516388                 Yemen\n",
              "241      YT -12.827500  45.166244               Mayotte\n",
              "242      ZA -30.559482  22.937506          South Africa\n",
              "243      ZM -13.133897  27.849332                Zambia\n",
              "244      ZW -19.015438  29.154857              Zimbabwe\n",
              "\n",
              "[245 rows x 4 columns]"
            ]
          },
          "metadata": {},
          "execution_count": 67
        }
      ]
    },
    {
      "cell_type": "code",
      "metadata": {
        "colab": {
          "base_uri": "https://localhost:8080/",
          "height": 419
        },
        "id": "2xu_aWrl9vs5",
        "outputId": "53a9c520-c9de-423d-e25b-caa1389277f1"
      },
      "source": [
        "run_sql(''' \n",
        "SELECT *\n",
        "FROM covid_tmp\n",
        "''')"
      ],
      "execution_count": null,
      "outputs": [
        {
          "output_type": "execute_result",
          "data": {
            "text/html": [
              "<div>\n",
              "<style scoped>\n",
              "    .dataframe tbody tr th:only-of-type {\n",
              "        vertical-align: middle;\n",
              "    }\n",
              "\n",
              "    .dataframe tbody tr th {\n",
              "        vertical-align: top;\n",
              "    }\n",
              "\n",
              "    .dataframe thead th {\n",
              "        text-align: right;\n",
              "    }\n",
              "</style>\n",
              "<table border=\"1\" class=\"dataframe\">\n",
              "  <thead>\n",
              "    <tr style=\"text-align: right;\">\n",
              "      <th></th>\n",
              "      <th>Date</th>\n",
              "      <th>Country</th>\n",
              "      <th>Confirmed</th>\n",
              "      <th>Recovered</th>\n",
              "      <th>Deaths</th>\n",
              "    </tr>\n",
              "  </thead>\n",
              "  <tbody>\n",
              "    <tr>\n",
              "      <th>0</th>\n",
              "      <td>2020-01-22</td>\n",
              "      <td>Afghanistan</td>\n",
              "      <td>0</td>\n",
              "      <td>0</td>\n",
              "      <td>0</td>\n",
              "    </tr>\n",
              "    <tr>\n",
              "      <th>1</th>\n",
              "      <td>2020-01-23</td>\n",
              "      <td>Afghanistan</td>\n",
              "      <td>0</td>\n",
              "      <td>0</td>\n",
              "      <td>0</td>\n",
              "    </tr>\n",
              "    <tr>\n",
              "      <th>2</th>\n",
              "      <td>2020-01-24</td>\n",
              "      <td>Afghanistan</td>\n",
              "      <td>0</td>\n",
              "      <td>0</td>\n",
              "      <td>0</td>\n",
              "    </tr>\n",
              "    <tr>\n",
              "      <th>3</th>\n",
              "      <td>2020-01-25</td>\n",
              "      <td>Afghanistan</td>\n",
              "      <td>0</td>\n",
              "      <td>0</td>\n",
              "      <td>0</td>\n",
              "    </tr>\n",
              "    <tr>\n",
              "      <th>4</th>\n",
              "      <td>2020-01-26</td>\n",
              "      <td>Afghanistan</td>\n",
              "      <td>0</td>\n",
              "      <td>0</td>\n",
              "      <td>0</td>\n",
              "    </tr>\n",
              "    <tr>\n",
              "      <th>...</th>\n",
              "      <td>...</td>\n",
              "      <td>...</td>\n",
              "      <td>...</td>\n",
              "      <td>...</td>\n",
              "      <td>...</td>\n",
              "    </tr>\n",
              "    <tr>\n",
              "      <th>115825</th>\n",
              "      <td>2021-09-02</td>\n",
              "      <td>Zimbabwe</td>\n",
              "      <td>125118</td>\n",
              "      <td>0</td>\n",
              "      <td>4449</td>\n",
              "    </tr>\n",
              "    <tr>\n",
              "      <th>115826</th>\n",
              "      <td>2021-09-03</td>\n",
              "      <td>Zimbabwe</td>\n",
              "      <td>125331</td>\n",
              "      <td>0</td>\n",
              "      <td>4457</td>\n",
              "    </tr>\n",
              "    <tr>\n",
              "      <th>115827</th>\n",
              "      <td>2021-09-04</td>\n",
              "      <td>Zimbabwe</td>\n",
              "      <td>125425</td>\n",
              "      <td>0</td>\n",
              "      <td>4466</td>\n",
              "    </tr>\n",
              "    <tr>\n",
              "      <th>115828</th>\n",
              "      <td>2021-09-05</td>\n",
              "      <td>Zimbabwe</td>\n",
              "      <td>125550</td>\n",
              "      <td>0</td>\n",
              "      <td>4482</td>\n",
              "    </tr>\n",
              "    <tr>\n",
              "      <th>115829</th>\n",
              "      <td>2021-09-06</td>\n",
              "      <td>Zimbabwe</td>\n",
              "      <td>125671</td>\n",
              "      <td>0</td>\n",
              "      <td>4493</td>\n",
              "    </tr>\n",
              "  </tbody>\n",
              "</table>\n",
              "<p>115830 rows × 5 columns</p>\n",
              "</div>"
            ],
            "text/plain": [
              "              Date      Country  Confirmed  Recovered  Deaths\n",
              "0       2020-01-22  Afghanistan          0          0       0\n",
              "1       2020-01-23  Afghanistan          0          0       0\n",
              "2       2020-01-24  Afghanistan          0          0       0\n",
              "3       2020-01-25  Afghanistan          0          0       0\n",
              "4       2020-01-26  Afghanistan          0          0       0\n",
              "...            ...          ...        ...        ...     ...\n",
              "115825  2021-09-02     Zimbabwe     125118          0    4449\n",
              "115826  2021-09-03     Zimbabwe     125331          0    4457\n",
              "115827  2021-09-04     Zimbabwe     125425          0    4466\n",
              "115828  2021-09-05     Zimbabwe     125550          0    4482\n",
              "115829  2021-09-06     Zimbabwe     125671          0    4493\n",
              "\n",
              "[115830 rows x 5 columns]"
            ]
          },
          "metadata": {},
          "execution_count": 68
        }
      ]
    },
    {
      "cell_type": "code",
      "metadata": {
        "colab": {
          "base_uri": "https://localhost:8080/",
          "height": 453
        },
        "id": "hwq2z9gGd7Y-",
        "outputId": "04765841-7546-47e7-b9a4-ccf8c2a0f671"
      },
      "source": [
        "run_sql(''' \n",
        "SELECT *\n",
        "FROM population_tmp\n",
        "''')"
      ],
      "execution_count": null,
      "outputs": [
        {
          "output_type": "execute_result",
          "data": {
            "text/html": [
              "<div>\n",
              "<style scoped>\n",
              "    .dataframe tbody tr th:only-of-type {\n",
              "        vertical-align: middle;\n",
              "    }\n",
              "\n",
              "    .dataframe tbody tr th {\n",
              "        vertical-align: top;\n",
              "    }\n",
              "\n",
              "    .dataframe thead th {\n",
              "        text-align: right;\n",
              "    }\n",
              "</style>\n",
              "<table border=\"1\" class=\"dataframe\">\n",
              "  <thead>\n",
              "    <tr style=\"text-align: right;\">\n",
              "      <th></th>\n",
              "      <th>Country</th>\n",
              "      <th>Population</th>\n",
              "      <th>Yearly Change</th>\n",
              "      <th>Net Change</th>\n",
              "      <th>Density (P/Km^2)</th>\n",
              "      <th>Area</th>\n",
              "      <th>Migrants (net)</th>\n",
              "      <th>Fert. Rate</th>\n",
              "      <th>Med. Age</th>\n",
              "      <th>Urban Pop %</th>\n",
              "      <th>World Share</th>\n",
              "    </tr>\n",
              "  </thead>\n",
              "  <tbody>\n",
              "    <tr>\n",
              "      <th>0</th>\n",
              "      <td>China</td>\n",
              "      <td>1440297825</td>\n",
              "      <td>0.39 %</td>\n",
              "      <td>5540090</td>\n",
              "      <td>153</td>\n",
              "      <td>9388211</td>\n",
              "      <td>-348399.0</td>\n",
              "      <td>1.7</td>\n",
              "      <td>38</td>\n",
              "      <td>61 %</td>\n",
              "      <td>18.47 %</td>\n",
              "    </tr>\n",
              "    <tr>\n",
              "      <th>1</th>\n",
              "      <td>India</td>\n",
              "      <td>1382345085</td>\n",
              "      <td>0.99 %</td>\n",
              "      <td>13586631</td>\n",
              "      <td>464</td>\n",
              "      <td>2973190</td>\n",
              "      <td>-532687.0</td>\n",
              "      <td>2.2</td>\n",
              "      <td>28</td>\n",
              "      <td>35 %</td>\n",
              "      <td>17.70 %</td>\n",
              "    </tr>\n",
              "    <tr>\n",
              "      <th>2</th>\n",
              "      <td>United States</td>\n",
              "      <td>331341050</td>\n",
              "      <td>0.59 %</td>\n",
              "      <td>1937734</td>\n",
              "      <td>36</td>\n",
              "      <td>9147420</td>\n",
              "      <td>954806.0</td>\n",
              "      <td>1.8</td>\n",
              "      <td>38</td>\n",
              "      <td>83 %</td>\n",
              "      <td>4.25 %</td>\n",
              "    </tr>\n",
              "    <tr>\n",
              "      <th>3</th>\n",
              "      <td>Indonesia</td>\n",
              "      <td>274021604</td>\n",
              "      <td>1.07 %</td>\n",
              "      <td>2898047</td>\n",
              "      <td>151</td>\n",
              "      <td>1811570</td>\n",
              "      <td>-98955.0</td>\n",
              "      <td>2.3</td>\n",
              "      <td>30</td>\n",
              "      <td>56 %</td>\n",
              "      <td>3.51 %</td>\n",
              "    </tr>\n",
              "    <tr>\n",
              "      <th>4</th>\n",
              "      <td>Pakistan</td>\n",
              "      <td>221612785</td>\n",
              "      <td>2.00 %</td>\n",
              "      <td>4327022</td>\n",
              "      <td>287</td>\n",
              "      <td>770880</td>\n",
              "      <td>-233379.0</td>\n",
              "      <td>3.6</td>\n",
              "      <td>23</td>\n",
              "      <td>35 %</td>\n",
              "      <td>2.83 %</td>\n",
              "    </tr>\n",
              "    <tr>\n",
              "      <th>...</th>\n",
              "      <td>...</td>\n",
              "      <td>...</td>\n",
              "      <td>...</td>\n",
              "      <td>...</td>\n",
              "      <td>...</td>\n",
              "      <td>...</td>\n",
              "      <td>...</td>\n",
              "      <td>...</td>\n",
              "      <td>...</td>\n",
              "      <td>...</td>\n",
              "      <td>...</td>\n",
              "    </tr>\n",
              "    <tr>\n",
              "      <th>230</th>\n",
              "      <td>Montserrat</td>\n",
              "      <td>4993</td>\n",
              "      <td>0.06 %</td>\n",
              "      <td>3</td>\n",
              "      <td>50</td>\n",
              "      <td>100</td>\n",
              "      <td>NaN</td>\n",
              "      <td>N.A.</td>\n",
              "      <td>N.A.</td>\n",
              "      <td>10 %</td>\n",
              "      <td>0.00 %</td>\n",
              "    </tr>\n",
              "    <tr>\n",
              "      <th>231</th>\n",
              "      <td>Falkland Islands</td>\n",
              "      <td>3497</td>\n",
              "      <td>3.05 %</td>\n",
              "      <td>103</td>\n",
              "      <td>0</td>\n",
              "      <td>12170</td>\n",
              "      <td>NaN</td>\n",
              "      <td>N.A.</td>\n",
              "      <td>N.A.</td>\n",
              "      <td>66 %</td>\n",
              "      <td>0.00 %</td>\n",
              "    </tr>\n",
              "    <tr>\n",
              "      <th>232</th>\n",
              "      <td>Niue</td>\n",
              "      <td>1628</td>\n",
              "      <td>0.68 %</td>\n",
              "      <td>11</td>\n",
              "      <td>6</td>\n",
              "      <td>260</td>\n",
              "      <td>NaN</td>\n",
              "      <td>N.A.</td>\n",
              "      <td>N.A.</td>\n",
              "      <td>46 %</td>\n",
              "      <td>0.00 %</td>\n",
              "    </tr>\n",
              "    <tr>\n",
              "      <th>233</th>\n",
              "      <td>Tokelau</td>\n",
              "      <td>1360</td>\n",
              "      <td>1.27 %</td>\n",
              "      <td>17</td>\n",
              "      <td>136</td>\n",
              "      <td>10</td>\n",
              "      <td>NaN</td>\n",
              "      <td>N.A.</td>\n",
              "      <td>N.A.</td>\n",
              "      <td>0 %</td>\n",
              "      <td>0.00 %</td>\n",
              "    </tr>\n",
              "    <tr>\n",
              "      <th>234</th>\n",
              "      <td>Holy See</td>\n",
              "      <td>801</td>\n",
              "      <td>0.25 %</td>\n",
              "      <td>2</td>\n",
              "      <td>2003</td>\n",
              "      <td>0</td>\n",
              "      <td>NaN</td>\n",
              "      <td>N.A.</td>\n",
              "      <td>N.A.</td>\n",
              "      <td>N.A.</td>\n",
              "      <td>0.00 %</td>\n",
              "    </tr>\n",
              "  </tbody>\n",
              "</table>\n",
              "<p>235 rows × 11 columns</p>\n",
              "</div>"
            ],
            "text/plain": [
              "              Country  Population  ... Urban Pop %  World Share\n",
              "0               China  1440297825  ...        61 %      18.47 %\n",
              "1               India  1382345085  ...        35 %      17.70 %\n",
              "2       United States   331341050  ...        83 %       4.25 %\n",
              "3           Indonesia   274021604  ...        56 %       3.51 %\n",
              "4            Pakistan   221612785  ...        35 %       2.83 %\n",
              "..                ...         ...  ...         ...          ...\n",
              "230        Montserrat        4993  ...        10 %       0.00 %\n",
              "231  Falkland Islands        3497  ...        66 %       0.00 %\n",
              "232              Niue        1628  ...        46 %       0.00 %\n",
              "233           Tokelau        1360  ...         0 %       0.00 %\n",
              "234          Holy See         801  ...        N.A.       0.00 %\n",
              "\n",
              "[235 rows x 11 columns]"
            ]
          },
          "metadata": {},
          "execution_count": 69
        }
      ]
    },
    {
      "cell_type": "code",
      "metadata": {
        "colab": {
          "base_uri": "https://localhost:8080/",
          "height": 609
        },
        "id": "4l1juhOtd7Y_",
        "outputId": "2079a68a-14d5-4934-8b66-e3f4da481367"
      },
      "source": [
        "run_sql(''' \n",
        "SELECT *\n",
        "FROM vax_tmp\n",
        "''')"
      ],
      "execution_count": null,
      "outputs": [
        {
          "output_type": "execute_result",
          "data": {
            "text/html": [
              "<div>\n",
              "<style scoped>\n",
              "    .dataframe tbody tr th:only-of-type {\n",
              "        vertical-align: middle;\n",
              "    }\n",
              "\n",
              "    .dataframe tbody tr th {\n",
              "        vertical-align: top;\n",
              "    }\n",
              "\n",
              "    .dataframe thead th {\n",
              "        text-align: right;\n",
              "    }\n",
              "</style>\n",
              "<table border=\"1\" class=\"dataframe\">\n",
              "  <thead>\n",
              "    <tr style=\"text-align: right;\">\n",
              "      <th></th>\n",
              "      <th>country</th>\n",
              "      <th>iso_code</th>\n",
              "      <th>date</th>\n",
              "      <th>total_vax</th>\n",
              "      <th>people_vaccinated</th>\n",
              "      <th>people_fully_vaccinated</th>\n",
              "      <th>total_boosters</th>\n",
              "      <th>daily_vaccinations_raw</th>\n",
              "      <th>daily_vaccinations</th>\n",
              "      <th>total_vaccinations_per_hundred</th>\n",
              "      <th>people_vaccinated_per_hundred</th>\n",
              "      <th>people_fully_vaccinated_per_hundred</th>\n",
              "      <th>total_boosters_per_hundred</th>\n",
              "      <th>daily_vaccinations_per_million</th>\n",
              "    </tr>\n",
              "  </thead>\n",
              "  <tbody>\n",
              "    <tr>\n",
              "      <th>0</th>\n",
              "      <td>Afghanistan</td>\n",
              "      <td>AFG</td>\n",
              "      <td>2021-02-22</td>\n",
              "      <td>0.0</td>\n",
              "      <td>0.0</td>\n",
              "      <td>NaN</td>\n",
              "      <td>NaN</td>\n",
              "      <td>NaN</td>\n",
              "      <td>NaN</td>\n",
              "      <td>0.00</td>\n",
              "      <td>0.00</td>\n",
              "      <td>NaN</td>\n",
              "      <td>NaN</td>\n",
              "      <td>NaN</td>\n",
              "    </tr>\n",
              "    <tr>\n",
              "      <th>1</th>\n",
              "      <td>Afghanistan</td>\n",
              "      <td>AFG</td>\n",
              "      <td>2021-02-23</td>\n",
              "      <td>NaN</td>\n",
              "      <td>NaN</td>\n",
              "      <td>NaN</td>\n",
              "      <td>NaN</td>\n",
              "      <td>NaN</td>\n",
              "      <td>1367.0</td>\n",
              "      <td>NaN</td>\n",
              "      <td>NaN</td>\n",
              "      <td>NaN</td>\n",
              "      <td>NaN</td>\n",
              "      <td>34.0</td>\n",
              "    </tr>\n",
              "    <tr>\n",
              "      <th>2</th>\n",
              "      <td>Afghanistan</td>\n",
              "      <td>AFG</td>\n",
              "      <td>2021-02-24</td>\n",
              "      <td>NaN</td>\n",
              "      <td>NaN</td>\n",
              "      <td>NaN</td>\n",
              "      <td>NaN</td>\n",
              "      <td>NaN</td>\n",
              "      <td>1367.0</td>\n",
              "      <td>NaN</td>\n",
              "      <td>NaN</td>\n",
              "      <td>NaN</td>\n",
              "      <td>NaN</td>\n",
              "      <td>34.0</td>\n",
              "    </tr>\n",
              "    <tr>\n",
              "      <th>3</th>\n",
              "      <td>Afghanistan</td>\n",
              "      <td>AFG</td>\n",
              "      <td>2021-02-25</td>\n",
              "      <td>NaN</td>\n",
              "      <td>NaN</td>\n",
              "      <td>NaN</td>\n",
              "      <td>NaN</td>\n",
              "      <td>NaN</td>\n",
              "      <td>1367.0</td>\n",
              "      <td>NaN</td>\n",
              "      <td>NaN</td>\n",
              "      <td>NaN</td>\n",
              "      <td>NaN</td>\n",
              "      <td>34.0</td>\n",
              "    </tr>\n",
              "    <tr>\n",
              "      <th>4</th>\n",
              "      <td>Afghanistan</td>\n",
              "      <td>AFG</td>\n",
              "      <td>2021-02-26</td>\n",
              "      <td>NaN</td>\n",
              "      <td>NaN</td>\n",
              "      <td>NaN</td>\n",
              "      <td>NaN</td>\n",
              "      <td>NaN</td>\n",
              "      <td>1367.0</td>\n",
              "      <td>NaN</td>\n",
              "      <td>NaN</td>\n",
              "      <td>NaN</td>\n",
              "      <td>NaN</td>\n",
              "      <td>34.0</td>\n",
              "    </tr>\n",
              "    <tr>\n",
              "      <th>...</th>\n",
              "      <td>...</td>\n",
              "      <td>...</td>\n",
              "      <td>...</td>\n",
              "      <td>...</td>\n",
              "      <td>...</td>\n",
              "      <td>...</td>\n",
              "      <td>...</td>\n",
              "      <td>...</td>\n",
              "      <td>...</td>\n",
              "      <td>...</td>\n",
              "      <td>...</td>\n",
              "      <td>...</td>\n",
              "      <td>...</td>\n",
              "      <td>...</td>\n",
              "    </tr>\n",
              "    <tr>\n",
              "      <th>46050</th>\n",
              "      <td>Zimbabwe</td>\n",
              "      <td>ZWE</td>\n",
              "      <td>2021-09-01</td>\n",
              "      <td>4270430.0</td>\n",
              "      <td>2615233.0</td>\n",
              "      <td>1655197.0</td>\n",
              "      <td>NaN</td>\n",
              "      <td>50606.0</td>\n",
              "      <td>36416.0</td>\n",
              "      <td>28.30</td>\n",
              "      <td>17.33</td>\n",
              "      <td>10.97</td>\n",
              "      <td>NaN</td>\n",
              "      <td>2413.0</td>\n",
              "    </tr>\n",
              "    <tr>\n",
              "      <th>46051</th>\n",
              "      <td>Zimbabwe</td>\n",
              "      <td>ZWE</td>\n",
              "      <td>2021-09-02</td>\n",
              "      <td>4323735.0</td>\n",
              "      <td>2649505.0</td>\n",
              "      <td>1674230.0</td>\n",
              "      <td>NaN</td>\n",
              "      <td>53305.0</td>\n",
              "      <td>39711.0</td>\n",
              "      <td>28.65</td>\n",
              "      <td>17.56</td>\n",
              "      <td>11.09</td>\n",
              "      <td>NaN</td>\n",
              "      <td>2631.0</td>\n",
              "    </tr>\n",
              "    <tr>\n",
              "      <th>46052</th>\n",
              "      <td>Zimbabwe</td>\n",
              "      <td>ZWE</td>\n",
              "      <td>2021-09-03</td>\n",
              "      <td>4372216.0</td>\n",
              "      <td>2681657.0</td>\n",
              "      <td>1690559.0</td>\n",
              "      <td>NaN</td>\n",
              "      <td>48481.0</td>\n",
              "      <td>42317.0</td>\n",
              "      <td>28.97</td>\n",
              "      <td>17.77</td>\n",
              "      <td>11.20</td>\n",
              "      <td>NaN</td>\n",
              "      <td>2804.0</td>\n",
              "    </tr>\n",
              "    <tr>\n",
              "      <th>46053</th>\n",
              "      <td>Zimbabwe</td>\n",
              "      <td>ZWE</td>\n",
              "      <td>2021-09-04</td>\n",
              "      <td>4400246.0</td>\n",
              "      <td>2698332.0</td>\n",
              "      <td>1701914.0</td>\n",
              "      <td>NaN</td>\n",
              "      <td>28030.0</td>\n",
              "      <td>41413.0</td>\n",
              "      <td>29.16</td>\n",
              "      <td>17.88</td>\n",
              "      <td>11.28</td>\n",
              "      <td>NaN</td>\n",
              "      <td>2744.0</td>\n",
              "    </tr>\n",
              "    <tr>\n",
              "      <th>46054</th>\n",
              "      <td>Zimbabwe</td>\n",
              "      <td>ZWE</td>\n",
              "      <td>2021-09-05</td>\n",
              "      <td>4431599.0</td>\n",
              "      <td>2713248.0</td>\n",
              "      <td>1718351.0</td>\n",
              "      <td>NaN</td>\n",
              "      <td>31353.0</td>\n",
              "      <td>41964.0</td>\n",
              "      <td>29.36</td>\n",
              "      <td>17.98</td>\n",
              "      <td>11.39</td>\n",
              "      <td>NaN</td>\n",
              "      <td>2781.0</td>\n",
              "    </tr>\n",
              "  </tbody>\n",
              "</table>\n",
              "<p>46055 rows × 14 columns</p>\n",
              "</div>"
            ],
            "text/plain": [
              "           country  ... daily_vaccinations_per_million\n",
              "0      Afghanistan  ...                            NaN\n",
              "1      Afghanistan  ...                           34.0\n",
              "2      Afghanistan  ...                           34.0\n",
              "3      Afghanistan  ...                           34.0\n",
              "4      Afghanistan  ...                           34.0\n",
              "...            ...  ...                            ...\n",
              "46050     Zimbabwe  ...                         2413.0\n",
              "46051     Zimbabwe  ...                         2631.0\n",
              "46052     Zimbabwe  ...                         2804.0\n",
              "46053     Zimbabwe  ...                         2744.0\n",
              "46054     Zimbabwe  ...                         2781.0\n",
              "\n",
              "[46055 rows x 14 columns]"
            ]
          },
          "metadata": {},
          "execution_count": 70
        }
      ]
    },
    {
      "cell_type": "code",
      "metadata": {
        "colab": {
          "base_uri": "https://localhost:8080/",
          "height": 419
        },
        "id": "r3Q_aRPrd7Y_",
        "outputId": "ff949099-4d94-48e6-e077-0c99b7ae2187"
      },
      "source": [
        "run_sql(''' \n",
        "SELECT *\n",
        "FROM vax_man_tmp\n",
        "''')"
      ],
      "execution_count": null,
      "outputs": [
        {
          "output_type": "execute_result",
          "data": {
            "text/html": [
              "<div>\n",
              "<style scoped>\n",
              "    .dataframe tbody tr th:only-of-type {\n",
              "        vertical-align: middle;\n",
              "    }\n",
              "\n",
              "    .dataframe tbody tr th {\n",
              "        vertical-align: top;\n",
              "    }\n",
              "\n",
              "    .dataframe thead th {\n",
              "        text-align: right;\n",
              "    }\n",
              "</style>\n",
              "<table border=\"1\" class=\"dataframe\">\n",
              "  <thead>\n",
              "    <tr style=\"text-align: right;\">\n",
              "      <th></th>\n",
              "      <th>country</th>\n",
              "      <th>date</th>\n",
              "      <th>vaccine</th>\n",
              "      <th>total_vax</th>\n",
              "    </tr>\n",
              "  </thead>\n",
              "  <tbody>\n",
              "    <tr>\n",
              "      <th>0</th>\n",
              "      <td>Austria</td>\n",
              "      <td>2021-01-08</td>\n",
              "      <td>Johnson&amp;Johnson</td>\n",
              "      <td>0</td>\n",
              "    </tr>\n",
              "    <tr>\n",
              "      <th>1</th>\n",
              "      <td>Austria</td>\n",
              "      <td>2021-01-08</td>\n",
              "      <td>Moderna</td>\n",
              "      <td>0</td>\n",
              "    </tr>\n",
              "    <tr>\n",
              "      <th>2</th>\n",
              "      <td>Austria</td>\n",
              "      <td>2021-01-08</td>\n",
              "      <td>Oxford/AstraZeneca</td>\n",
              "      <td>0</td>\n",
              "    </tr>\n",
              "    <tr>\n",
              "      <th>3</th>\n",
              "      <td>Austria</td>\n",
              "      <td>2021-01-08</td>\n",
              "      <td>Pfizer/BioNTech</td>\n",
              "      <td>31150</td>\n",
              "    </tr>\n",
              "    <tr>\n",
              "      <th>4</th>\n",
              "      <td>Austria</td>\n",
              "      <td>2021-01-15</td>\n",
              "      <td>Johnson&amp;Johnson</td>\n",
              "      <td>0</td>\n",
              "    </tr>\n",
              "    <tr>\n",
              "      <th>...</th>\n",
              "      <td>...</td>\n",
              "      <td>...</td>\n",
              "      <td>...</td>\n",
              "      <td>...</td>\n",
              "    </tr>\n",
              "    <tr>\n",
              "      <th>15075</th>\n",
              "      <td>European Union</td>\n",
              "      <td>2021-09-07</td>\n",
              "      <td>Moderna</td>\n",
              "      <td>53445667</td>\n",
              "    </tr>\n",
              "    <tr>\n",
              "      <th>15076</th>\n",
              "      <td>European Union</td>\n",
              "      <td>2021-09-07</td>\n",
              "      <td>Oxford/AstraZeneca</td>\n",
              "      <td>67010382</td>\n",
              "    </tr>\n",
              "    <tr>\n",
              "      <th>15077</th>\n",
              "      <td>European Union</td>\n",
              "      <td>2021-09-07</td>\n",
              "      <td>Pfizer/BioNTech</td>\n",
              "      <td>380344010</td>\n",
              "    </tr>\n",
              "    <tr>\n",
              "      <th>15078</th>\n",
              "      <td>European Union</td>\n",
              "      <td>2021-09-07</td>\n",
              "      <td>Sinopharm/Beijing</td>\n",
              "      <td>2089836</td>\n",
              "    </tr>\n",
              "    <tr>\n",
              "      <th>15079</th>\n",
              "      <td>European Union</td>\n",
              "      <td>2021-09-07</td>\n",
              "      <td>Sputnik V</td>\n",
              "      <td>1839048</td>\n",
              "    </tr>\n",
              "  </tbody>\n",
              "</table>\n",
              "<p>15080 rows × 4 columns</p>\n",
              "</div>"
            ],
            "text/plain": [
              "              country        date             vaccine  total_vax\n",
              "0             Austria  2021-01-08     Johnson&Johnson          0\n",
              "1             Austria  2021-01-08             Moderna          0\n",
              "2             Austria  2021-01-08  Oxford/AstraZeneca          0\n",
              "3             Austria  2021-01-08     Pfizer/BioNTech      31150\n",
              "4             Austria  2021-01-15     Johnson&Johnson          0\n",
              "...               ...         ...                 ...        ...\n",
              "15075  European Union  2021-09-07             Moderna   53445667\n",
              "15076  European Union  2021-09-07  Oxford/AstraZeneca   67010382\n",
              "15077  European Union  2021-09-07     Pfizer/BioNTech  380344010\n",
              "15078  European Union  2021-09-07   Sinopharm/Beijing    2089836\n",
              "15079  European Union  2021-09-07           Sputnik V    1839048\n",
              "\n",
              "[15080 rows x 4 columns]"
            ]
          },
          "metadata": {},
          "execution_count": 71
        }
      ]
    },
    {
      "cell_type": "markdown",
      "metadata": {
        "id": "ko4ukqxM9L8L"
      },
      "source": [
        "Now, we choose 10 countries and include them in our countries table, while discluding all others.\n",
        "\n",
        "logical design of countries is:\n",
        "countries(<ins>id</ins>, name, population, area, latitude, longitude)"
      ]
    },
    {
      "cell_type": "code",
      "metadata": {
        "id": "_MC_yR2-d7ZB"
      },
      "source": [
        "run_sql(''' \n",
        "INSERT INTO countries\n",
        "SELECT c.country, name, population, area, latitude, longitude\n",
        "FROM countries_tmp  as c, population_tmp as p\n",
        "WHERE name IN (\"Italy\", \"United States\", \"South Korea\", \"Netherlands\", \"Japan\", \"Sweden\", \"Chile\", \"France\", \"Austria\", \"Switzerland\")\n",
        "    AND name = p.country\n",
        "ORDER By name\n",
        "''')"
      ],
      "execution_count": null,
      "outputs": []
    },
    {
      "cell_type": "markdown",
      "metadata": {
        "id": "7ziAxAO9d7ZB"
      },
      "source": [
        "Now we check that countries have been properly inserted into the table:"
      ]
    },
    {
      "cell_type": "code",
      "metadata": {
        "colab": {
          "base_uri": "https://localhost:8080/",
          "height": 359
        },
        "id": "ZdOJZdi6d7ZC",
        "outputId": "6d75e595-4e3d-4db4-b6a9-e2ff9f04877c"
      },
      "source": [
        "run_sql(''' \n",
        "SELECT *\n",
        "FROM countries\n",
        "''')"
      ],
      "execution_count": null,
      "outputs": [
        {
          "output_type": "execute_result",
          "data": {
            "text/html": [
              "<div>\n",
              "<style scoped>\n",
              "    .dataframe tbody tr th:only-of-type {\n",
              "        vertical-align: middle;\n",
              "    }\n",
              "\n",
              "    .dataframe tbody tr th {\n",
              "        vertical-align: top;\n",
              "    }\n",
              "\n",
              "    .dataframe thead th {\n",
              "        text-align: right;\n",
              "    }\n",
              "</style>\n",
              "<table border=\"1\" class=\"dataframe\">\n",
              "  <thead>\n",
              "    <tr style=\"text-align: right;\">\n",
              "      <th></th>\n",
              "      <th>id</th>\n",
              "      <th>name</th>\n",
              "      <th>population</th>\n",
              "      <th>area</th>\n",
              "      <th>latitude</th>\n",
              "      <th>longitude</th>\n",
              "    </tr>\n",
              "  </thead>\n",
              "  <tbody>\n",
              "    <tr>\n",
              "      <th>0</th>\n",
              "      <td>AT</td>\n",
              "      <td>Austria</td>\n",
              "      <td>9015361.0</td>\n",
              "      <td>82409.0</td>\n",
              "      <td>47.516231</td>\n",
              "      <td>14.550072</td>\n",
              "    </tr>\n",
              "    <tr>\n",
              "      <th>1</th>\n",
              "      <td>CL</td>\n",
              "      <td>Chile</td>\n",
              "      <td>19144605.0</td>\n",
              "      <td>743532.0</td>\n",
              "      <td>-35.675147</td>\n",
              "      <td>-71.542969</td>\n",
              "    </tr>\n",
              "    <tr>\n",
              "      <th>2</th>\n",
              "      <td>FR</td>\n",
              "      <td>France</td>\n",
              "      <td>65298930.0</td>\n",
              "      <td>547557.0</td>\n",
              "      <td>46.227638</td>\n",
              "      <td>2.213749</td>\n",
              "    </tr>\n",
              "    <tr>\n",
              "      <th>3</th>\n",
              "      <td>IT</td>\n",
              "      <td>Italy</td>\n",
              "      <td>60446035.0</td>\n",
              "      <td>294140.0</td>\n",
              "      <td>41.871940</td>\n",
              "      <td>12.567380</td>\n",
              "    </tr>\n",
              "    <tr>\n",
              "      <th>4</th>\n",
              "      <td>JP</td>\n",
              "      <td>Japan</td>\n",
              "      <td>126407422.0</td>\n",
              "      <td>364555.0</td>\n",
              "      <td>36.204824</td>\n",
              "      <td>138.252924</td>\n",
              "    </tr>\n",
              "    <tr>\n",
              "      <th>5</th>\n",
              "      <td>NL</td>\n",
              "      <td>Netherlands</td>\n",
              "      <td>17141544.0</td>\n",
              "      <td>33720.0</td>\n",
              "      <td>52.132633</td>\n",
              "      <td>5.291266</td>\n",
              "    </tr>\n",
              "    <tr>\n",
              "      <th>6</th>\n",
              "      <td>KR</td>\n",
              "      <td>South Korea</td>\n",
              "      <td>51276977.0</td>\n",
              "      <td>97230.0</td>\n",
              "      <td>35.907757</td>\n",
              "      <td>127.766922</td>\n",
              "    </tr>\n",
              "    <tr>\n",
              "      <th>7</th>\n",
              "      <td>SE</td>\n",
              "      <td>Sweden</td>\n",
              "      <td>10110233.0</td>\n",
              "      <td>410340.0</td>\n",
              "      <td>60.128161</td>\n",
              "      <td>18.643501</td>\n",
              "    </tr>\n",
              "    <tr>\n",
              "      <th>8</th>\n",
              "      <td>CH</td>\n",
              "      <td>Switzerland</td>\n",
              "      <td>8665615.0</td>\n",
              "      <td>39516.0</td>\n",
              "      <td>46.818188</td>\n",
              "      <td>8.227512</td>\n",
              "    </tr>\n",
              "    <tr>\n",
              "      <th>9</th>\n",
              "      <td>US</td>\n",
              "      <td>United States</td>\n",
              "      <td>331341050.0</td>\n",
              "      <td>9147420.0</td>\n",
              "      <td>37.090240</td>\n",
              "      <td>-95.712891</td>\n",
              "    </tr>\n",
              "  </tbody>\n",
              "</table>\n",
              "</div>"
            ],
            "text/plain": [
              "   id           name   population       area   latitude   longitude\n",
              "0  AT        Austria    9015361.0    82409.0  47.516231   14.550072\n",
              "1  CL          Chile   19144605.0   743532.0 -35.675147  -71.542969\n",
              "2  FR         France   65298930.0   547557.0  46.227638    2.213749\n",
              "3  IT          Italy   60446035.0   294140.0  41.871940   12.567380\n",
              "4  JP          Japan  126407422.0   364555.0  36.204824  138.252924\n",
              "5  NL    Netherlands   17141544.0    33720.0  52.132633    5.291266\n",
              "6  KR    South Korea   51276977.0    97230.0  35.907757  127.766922\n",
              "7  SE         Sweden   10110233.0   410340.0  60.128161   18.643501\n",
              "8  CH    Switzerland    8665615.0    39516.0  46.818188    8.227512\n",
              "9  US  United States  331341050.0  9147420.0  37.090240  -95.712891"
            ]
          },
          "metadata": {},
          "execution_count": 73
        }
      ]
    },
    {
      "cell_type": "markdown",
      "metadata": {
        "id": "reKKgKoS_tfe"
      },
      "source": [
        "The above query shows that there are exactly 10 countries in our database. Now, we insert data inside table covid_record. The schema of the table is:\n",
        "\n",
        "covid_record(day, country: fk to country(name), confirmed, recovered, deaths)\n",
        "\n",
        "We need to make sure that keys are not repeated. To be sure of this, one idea is to group rows by key and pick the maximum number of confirmed cases.\n",
        "\n",
        "Another constraint: the number of confirmed cases should be >= 0. We check this using the clause HAVING."
      ]
    },
    {
      "cell_type": "code",
      "metadata": {
        "id": "q0W8rUQDd7ZC"
      },
      "source": [
        "run_sql(''' \n",
        "INSERT INTO covid_record \n",
        "SELECT \"Date\", country, max(confirmed), max(recovered), max(deaths) -- note: \"Date\" must be put between double quotes because DATE is a reserved SQL word.\n",
        "FROM covid_tmp, countries\n",
        "WHERE covid_tmp.country = countries.name\n",
        "GROUP BY \"Date\", country\n",
        "HAVING max(confirmed) >= 0 -- needed for the check constraint. Note: this discards also NULL values\n",
        "ORDER BY country\n",
        "''')"
      ],
      "execution_count": null,
      "outputs": []
    },
    {
      "cell_type": "markdown",
      "metadata": {
        "id": "ifHCRwLxd7ZD"
      },
      "source": [
        "We check that table has been created correctly (see distinct countries): "
      ]
    },
    {
      "cell_type": "code",
      "metadata": {
        "colab": {
          "base_uri": "https://localhost:8080/",
          "height": 297
        },
        "id": "prnyATQPd7ZD",
        "outputId": "8b7f8f57-be58-48ff-8b72-3d64592b60b2"
      },
      "source": [
        "run_sql(''' \n",
        "SELECT DISTINCT country\n",
        "FROM covid_record\n",
        "''')"
      ],
      "execution_count": null,
      "outputs": [
        {
          "output_type": "execute_result",
          "data": {
            "text/html": [
              "<div>\n",
              "<style scoped>\n",
              "    .dataframe tbody tr th:only-of-type {\n",
              "        vertical-align: middle;\n",
              "    }\n",
              "\n",
              "    .dataframe tbody tr th {\n",
              "        vertical-align: top;\n",
              "    }\n",
              "\n",
              "    .dataframe thead th {\n",
              "        text-align: right;\n",
              "    }\n",
              "</style>\n",
              "<table border=\"1\" class=\"dataframe\">\n",
              "  <thead>\n",
              "    <tr style=\"text-align: right;\">\n",
              "      <th></th>\n",
              "      <th>country</th>\n",
              "    </tr>\n",
              "  </thead>\n",
              "  <tbody>\n",
              "    <tr>\n",
              "      <th>0</th>\n",
              "      <td>Austria</td>\n",
              "    </tr>\n",
              "    <tr>\n",
              "      <th>1</th>\n",
              "      <td>Chile</td>\n",
              "    </tr>\n",
              "    <tr>\n",
              "      <th>2</th>\n",
              "      <td>France</td>\n",
              "    </tr>\n",
              "    <tr>\n",
              "      <th>3</th>\n",
              "      <td>Italy</td>\n",
              "    </tr>\n",
              "    <tr>\n",
              "      <th>4</th>\n",
              "      <td>Japan</td>\n",
              "    </tr>\n",
              "    <tr>\n",
              "      <th>5</th>\n",
              "      <td>Netherlands</td>\n",
              "    </tr>\n",
              "    <tr>\n",
              "      <th>6</th>\n",
              "      <td>Sweden</td>\n",
              "    </tr>\n",
              "    <tr>\n",
              "      <th>7</th>\n",
              "      <td>Switzerland</td>\n",
              "    </tr>\n",
              "  </tbody>\n",
              "</table>\n",
              "</div>"
            ],
            "text/plain": [
              "       country\n",
              "0      Austria\n",
              "1        Chile\n",
              "2       France\n",
              "3        Italy\n",
              "4        Japan\n",
              "5  Netherlands\n",
              "6       Sweden\n",
              "7  Switzerland"
            ]
          },
          "metadata": {},
          "execution_count": 75
        }
      ]
    },
    {
      "cell_type": "markdown",
      "metadata": {
        "id": "qDK73kCyd7ZD"
      },
      "source": [
        "We see that the US and South Korea are missing from the list. Trying to solve this issue, we can see that covid_tmp doesn't have any country named \"United States\" or \"South Korea\". Rather, it stores the name of these countries in a different way (i.e: \"US\" and \"Korea, South\"):"
      ]
    },
    {
      "cell_type": "code",
      "metadata": {
        "colab": {
          "base_uri": "https://localhost:8080/",
          "height": 80
        },
        "id": "nC937b_Ed7ZE",
        "outputId": "49e10675-9269-4bd2-c46c-202101a019d7"
      },
      "source": [
        "run_sql(''' \n",
        "SELECT DISTINCT country\n",
        "FROM covid_tmp\n",
        "WHERE country LIKE \"%korea%\"\n",
        "''')"
      ],
      "execution_count": null,
      "outputs": [
        {
          "output_type": "execute_result",
          "data": {
            "text/html": [
              "<div>\n",
              "<style scoped>\n",
              "    .dataframe tbody tr th:only-of-type {\n",
              "        vertical-align: middle;\n",
              "    }\n",
              "\n",
              "    .dataframe tbody tr th {\n",
              "        vertical-align: top;\n",
              "    }\n",
              "\n",
              "    .dataframe thead th {\n",
              "        text-align: right;\n",
              "    }\n",
              "</style>\n",
              "<table border=\"1\" class=\"dataframe\">\n",
              "  <thead>\n",
              "    <tr style=\"text-align: right;\">\n",
              "      <th></th>\n",
              "      <th>Country</th>\n",
              "    </tr>\n",
              "  </thead>\n",
              "  <tbody>\n",
              "    <tr>\n",
              "      <th>0</th>\n",
              "      <td>Korea, South</td>\n",
              "    </tr>\n",
              "  </tbody>\n",
              "</table>\n",
              "</div>"
            ],
            "text/plain": [
              "        Country\n",
              "0  Korea, South"
            ]
          },
          "metadata": {},
          "execution_count": 76
        }
      ]
    },
    {
      "cell_type": "code",
      "metadata": {
        "colab": {
          "base_uri": "https://localhost:8080/",
          "height": 80
        },
        "id": "IOXqvJVaABbe",
        "outputId": "db42f876-e29d-4697-8f20-8b4c9992df7a"
      },
      "source": [
        "run_sql(''' \n",
        "SELECT DISTINCT country\n",
        "FROM covid_tmp\n",
        "WHERE country IN (\"United States\", \"United States of America\", \"US\", \"USA\") -- we search in different versions of US\n",
        "''')"
      ],
      "execution_count": null,
      "outputs": [
        {
          "output_type": "execute_result",
          "data": {
            "text/html": [
              "<div>\n",
              "<style scoped>\n",
              "    .dataframe tbody tr th:only-of-type {\n",
              "        vertical-align: middle;\n",
              "    }\n",
              "\n",
              "    .dataframe tbody tr th {\n",
              "        vertical-align: top;\n",
              "    }\n",
              "\n",
              "    .dataframe thead th {\n",
              "        text-align: right;\n",
              "    }\n",
              "</style>\n",
              "<table border=\"1\" class=\"dataframe\">\n",
              "  <thead>\n",
              "    <tr style=\"text-align: right;\">\n",
              "      <th></th>\n",
              "      <th>Country</th>\n",
              "    </tr>\n",
              "  </thead>\n",
              "  <tbody>\n",
              "    <tr>\n",
              "      <th>0</th>\n",
              "      <td>US</td>\n",
              "    </tr>\n",
              "  </tbody>\n",
              "</table>\n",
              "</div>"
            ],
            "text/plain": [
              "  Country\n",
              "0      US"
            ]
          },
          "metadata": {},
          "execution_count": 77
        }
      ]
    },
    {
      "cell_type": "markdown",
      "metadata": {
        "id": "4ZWSQh51d7ZE"
      },
      "source": [
        "Now, as we resolved the issue, we add the US and South Korea into the covid_record table and achieve consistency in the database. We first add these countries as \"US\" and \"Korea, South\", then change these names to \"United States\" and \"South Korea\" respectively so that they match with our country table:"
      ]
    },
    {
      "cell_type": "code",
      "metadata": {
        "id": "2Lg561hqd7ZE"
      },
      "source": [
        "#add US and South Korea:\n",
        "run_sql(''' \n",
        "INSERT INTO covid_record \n",
        "SELECT \"Date\", country, max(confirmed), max(recovered), max(deaths) -- note: \"Date\" must be put between double quotes because DATE is a reserved SQL word.\n",
        "FROM covid_tmp\n",
        "WHERE country in (\"US\", \"Korea, South\")\n",
        "GROUP BY \"Date\", country\n",
        "HAVING max(confirmed) >= 0 -- needed for the check constraint. Note: this discards also NULL values\n",
        "ORDER BY country\n",
        "''')"
      ],
      "execution_count": null,
      "outputs": []
    },
    {
      "cell_type": "code",
      "metadata": {
        "id": "gDSDRCSKd7ZF"
      },
      "source": [
        "#update the name for US:\n",
        "run_sql(''' \n",
        "UPDATE covid_record\n",
        "SET country = 'United States'\n",
        "WHERE country = \"US\";\n",
        "''')\n",
        "\n",
        "#update the name for South Korea:\n",
        "run_sql(''' \n",
        "UPDATE covid_record\n",
        "SET country = 'South Korea'\n",
        "WHERE country = \"Korea, South\";\n",
        "''')"
      ],
      "execution_count": null,
      "outputs": []
    },
    {
      "cell_type": "markdown",
      "metadata": {
        "id": "oFtS2ecsd7ZF"
      },
      "source": [
        "We check again and see that the table now contains data also about the US:"
      ]
    },
    {
      "cell_type": "code",
      "metadata": {
        "colab": {
          "base_uri": "https://localhost:8080/",
          "height": 359
        },
        "id": "Pq9ph3akd7ZF",
        "outputId": "679ec982-7bab-4a41-8e87-5ad85d0ed78f"
      },
      "source": [
        "run_sql(''' \n",
        "SELECT DISTINCT country\n",
        "FROM covid_record\n",
        "''')"
      ],
      "execution_count": null,
      "outputs": [
        {
          "output_type": "execute_result",
          "data": {
            "text/html": [
              "<div>\n",
              "<style scoped>\n",
              "    .dataframe tbody tr th:only-of-type {\n",
              "        vertical-align: middle;\n",
              "    }\n",
              "\n",
              "    .dataframe tbody tr th {\n",
              "        vertical-align: top;\n",
              "    }\n",
              "\n",
              "    .dataframe thead th {\n",
              "        text-align: right;\n",
              "    }\n",
              "</style>\n",
              "<table border=\"1\" class=\"dataframe\">\n",
              "  <thead>\n",
              "    <tr style=\"text-align: right;\">\n",
              "      <th></th>\n",
              "      <th>country</th>\n",
              "    </tr>\n",
              "  </thead>\n",
              "  <tbody>\n",
              "    <tr>\n",
              "      <th>0</th>\n",
              "      <td>Austria</td>\n",
              "    </tr>\n",
              "    <tr>\n",
              "      <th>1</th>\n",
              "      <td>Chile</td>\n",
              "    </tr>\n",
              "    <tr>\n",
              "      <th>2</th>\n",
              "      <td>France</td>\n",
              "    </tr>\n",
              "    <tr>\n",
              "      <th>3</th>\n",
              "      <td>Italy</td>\n",
              "    </tr>\n",
              "    <tr>\n",
              "      <th>4</th>\n",
              "      <td>Japan</td>\n",
              "    </tr>\n",
              "    <tr>\n",
              "      <th>5</th>\n",
              "      <td>Netherlands</td>\n",
              "    </tr>\n",
              "    <tr>\n",
              "      <th>6</th>\n",
              "      <td>South Korea</td>\n",
              "    </tr>\n",
              "    <tr>\n",
              "      <th>7</th>\n",
              "      <td>Sweden</td>\n",
              "    </tr>\n",
              "    <tr>\n",
              "      <th>8</th>\n",
              "      <td>Switzerland</td>\n",
              "    </tr>\n",
              "    <tr>\n",
              "      <th>9</th>\n",
              "      <td>United States</td>\n",
              "    </tr>\n",
              "  </tbody>\n",
              "</table>\n",
              "</div>"
            ],
            "text/plain": [
              "         country\n",
              "0        Austria\n",
              "1          Chile\n",
              "2         France\n",
              "3          Italy\n",
              "4          Japan\n",
              "5    Netherlands\n",
              "6    South Korea\n",
              "7         Sweden\n",
              "8    Switzerland\n",
              "9  United States"
            ]
          },
          "metadata": {},
          "execution_count": 80
        }
      ]
    },
    {
      "cell_type": "markdown",
      "metadata": {
        "id": "PsnqFSuBBcCk"
      },
      "source": [
        "Now, we insert data in our table vax_record. The schema of the table is:\n",
        "\n",
        "vax_record(<ins>day</ins>, <ins>country</ins>: fk to country(name), total_vax, people_vaccinated)\n",
        "\n",
        "As above, we avoid duplicating keys by using GROUP BY (if total_vax and people_vaccinated contain two rows with the same day/country, we pick the maximum number of total_vax and people_vaccinated), and we remove groups with negative number of flights by using HAVING."
      ]
    },
    {
      "cell_type": "code",
      "metadata": {
        "id": "jUF-ZpsoBqqp"
      },
      "source": [
        "run_sql(''' \n",
        "INSERT INTO vax_record\n",
        "SELECT \"date\", country, max(total_vax), max(people_vaccinated)\n",
        "FROM vax_tmp, countries\n",
        "WHERE vax_tmp.country = countries.name\n",
        "GROUP BY \"date\", country\n",
        "HAVING max(total_vax) >= 0 and max(people_vaccinated) >= 0 -- needed for the check constraint\n",
        "ORDER BY country\n",
        "''')"
      ],
      "execution_count": null,
      "outputs": []
    },
    {
      "cell_type": "markdown",
      "metadata": {
        "id": "qq7cc1wACR4E"
      },
      "source": [
        "We check that the table has been correctly created:"
      ]
    },
    {
      "cell_type": "code",
      "metadata": {
        "colab": {
          "base_uri": "https://localhost:8080/",
          "height": 419
        },
        "id": "i_kAU2XiCUPO",
        "outputId": "41dff0f3-fc9a-451a-9d7a-137e8b2b066e"
      },
      "source": [
        "run_sql('''\n",
        "SELECT *\n",
        "FROM vax_record\n",
        "''')"
      ],
      "execution_count": null,
      "outputs": [
        {
          "output_type": "execute_result",
          "data": {
            "text/html": [
              "<div>\n",
              "<style scoped>\n",
              "    .dataframe tbody tr th:only-of-type {\n",
              "        vertical-align: middle;\n",
              "    }\n",
              "\n",
              "    .dataframe tbody tr th {\n",
              "        vertical-align: top;\n",
              "    }\n",
              "\n",
              "    .dataframe thead th {\n",
              "        text-align: right;\n",
              "    }\n",
              "</style>\n",
              "<table border=\"1\" class=\"dataframe\">\n",
              "  <thead>\n",
              "    <tr style=\"text-align: right;\">\n",
              "      <th></th>\n",
              "      <th>day</th>\n",
              "      <th>country</th>\n",
              "      <th>total_vax</th>\n",
              "      <th>people_vaccinated</th>\n",
              "    </tr>\n",
              "  </thead>\n",
              "  <tbody>\n",
              "    <tr>\n",
              "      <th>0</th>\n",
              "      <td>2020-12-27</td>\n",
              "      <td>Austria</td>\n",
              "      <td>749.0</td>\n",
              "      <td>749.0</td>\n",
              "    </tr>\n",
              "    <tr>\n",
              "      <th>1</th>\n",
              "      <td>2020-12-28</td>\n",
              "      <td>Austria</td>\n",
              "      <td>2067.0</td>\n",
              "      <td>2066.0</td>\n",
              "    </tr>\n",
              "    <tr>\n",
              "      <th>2</th>\n",
              "      <td>2020-12-29</td>\n",
              "      <td>Austria</td>\n",
              "      <td>3713.0</td>\n",
              "      <td>3712.0</td>\n",
              "    </tr>\n",
              "    <tr>\n",
              "      <th>3</th>\n",
              "      <td>2020-12-30</td>\n",
              "      <td>Austria</td>\n",
              "      <td>5089.0</td>\n",
              "      <td>5088.0</td>\n",
              "    </tr>\n",
              "    <tr>\n",
              "      <th>4</th>\n",
              "      <td>2020-12-31</td>\n",
              "      <td>Austria</td>\n",
              "      <td>5101.0</td>\n",
              "      <td>5100.0</td>\n",
              "    </tr>\n",
              "    <tr>\n",
              "      <th>...</th>\n",
              "      <td>...</td>\n",
              "      <td>...</td>\n",
              "      <td>...</td>\n",
              "      <td>...</td>\n",
              "    </tr>\n",
              "    <tr>\n",
              "      <th>1954</th>\n",
              "      <td>2021-08-31</td>\n",
              "      <td>United States</td>\n",
              "      <td>370212027.0</td>\n",
              "      <td>205026070.0</td>\n",
              "    </tr>\n",
              "    <tr>\n",
              "      <th>1955</th>\n",
              "      <td>2021-09-01</td>\n",
              "      <td>United States</td>\n",
              "      <td>371280129.0</td>\n",
              "      <td>205527578.0</td>\n",
              "    </tr>\n",
              "    <tr>\n",
              "      <th>1956</th>\n",
              "      <td>2021-09-02</td>\n",
              "      <td>United States</td>\n",
              "      <td>372116617.0</td>\n",
              "      <td>205911640.0</td>\n",
              "    </tr>\n",
              "    <tr>\n",
              "      <th>1957</th>\n",
              "      <td>2021-09-03</td>\n",
              "      <td>United States</td>\n",
              "      <td>373516809.0</td>\n",
              "      <td>206461869.0</td>\n",
              "    </tr>\n",
              "    <tr>\n",
              "      <th>1958</th>\n",
              "      <td>2021-09-04</td>\n",
              "      <td>United States</td>\n",
              "      <td>374488924.0</td>\n",
              "      <td>206908710.0</td>\n",
              "    </tr>\n",
              "  </tbody>\n",
              "</table>\n",
              "<p>1959 rows × 4 columns</p>\n",
              "</div>"
            ],
            "text/plain": [
              "             day        country    total_vax  people_vaccinated\n",
              "0     2020-12-27        Austria        749.0              749.0\n",
              "1     2020-12-28        Austria       2067.0             2066.0\n",
              "2     2020-12-29        Austria       3713.0             3712.0\n",
              "3     2020-12-30        Austria       5089.0             5088.0\n",
              "4     2020-12-31        Austria       5101.0             5100.0\n",
              "...          ...            ...          ...                ...\n",
              "1954  2021-08-31  United States  370212027.0        205026070.0\n",
              "1955  2021-09-01  United States  371280129.0        205527578.0\n",
              "1956  2021-09-02  United States  372116617.0        205911640.0\n",
              "1957  2021-09-03  United States  373516809.0        206461869.0\n",
              "1958  2021-09-04  United States  374488924.0        206908710.0\n",
              "\n",
              "[1959 rows x 4 columns]"
            ]
          },
          "metadata": {},
          "execution_count": 82
        }
      ]
    },
    {
      "cell_type": "markdown",
      "metadata": {
        "id": "2FQSeQ5Zd7ZH"
      },
      "source": [
        "Now, we insert data in our table vax_man. The schema of the table is:\n",
        "\n",
        "vax_man(<ins>day</ins>, <ins>country</ins>: fk to country(name), <ins>vaccine</ins>, total_vax)\n",
        "\n",
        "As above, we avoid duplicating keys by using GROUP BY (if total_vax contains two rows with the same day/country/vaccine, we pick the one with the maximum number of total_vax), and we remove groups with negative number of flights by using HAVING."
      ]
    },
    {
      "cell_type": "code",
      "metadata": {
        "id": "XScHVel3d7ZH"
      },
      "source": [
        "run_sql(''' \n",
        "INSERT INTO vax_man\n",
        "SELECT \"date\", country, vaccine, max(total_vax)\n",
        "FROM vax_man_tmp, countries\n",
        "WHERE country = name\n",
        "GROUP BY \"date\", country, vaccine\n",
        "HAVING max(total_vax) >= 0 -- needed for the check constraint\n",
        "ORDER BY country\n",
        "''')"
      ],
      "execution_count": null,
      "outputs": []
    },
    {
      "cell_type": "markdown",
      "metadata": {
        "id": "DaA0TlLYd7ZH"
      },
      "source": [
        "We check that the table has been correctly created:"
      ]
    },
    {
      "cell_type": "code",
      "metadata": {
        "colab": {
          "base_uri": "https://localhost:8080/",
          "height": 419
        },
        "id": "3ibQt7TOd7ZI",
        "outputId": "a672bc02-27c6-417d-8ee6-5e5810b6867b"
      },
      "source": [
        "run_sql('''\n",
        "SELECT *\n",
        "FROM vax_man\n",
        "''')"
      ],
      "execution_count": null,
      "outputs": [
        {
          "output_type": "execute_result",
          "data": {
            "text/html": [
              "<div>\n",
              "<style scoped>\n",
              "    .dataframe tbody tr th:only-of-type {\n",
              "        vertical-align: middle;\n",
              "    }\n",
              "\n",
              "    .dataframe tbody tr th {\n",
              "        vertical-align: top;\n",
              "    }\n",
              "\n",
              "    .dataframe thead th {\n",
              "        text-align: right;\n",
              "    }\n",
              "</style>\n",
              "<table border=\"1\" class=\"dataframe\">\n",
              "  <thead>\n",
              "    <tr style=\"text-align: right;\">\n",
              "      <th></th>\n",
              "      <th>day</th>\n",
              "      <th>country</th>\n",
              "      <th>vaccine</th>\n",
              "      <th>total_vax</th>\n",
              "    </tr>\n",
              "  </thead>\n",
              "  <tbody>\n",
              "    <tr>\n",
              "      <th>0</th>\n",
              "      <td>2021-01-08</td>\n",
              "      <td>Austria</td>\n",
              "      <td>Johnson&amp;Johnson</td>\n",
              "      <td>0.0</td>\n",
              "    </tr>\n",
              "    <tr>\n",
              "      <th>1</th>\n",
              "      <td>2021-01-08</td>\n",
              "      <td>Austria</td>\n",
              "      <td>Moderna</td>\n",
              "      <td>0.0</td>\n",
              "    </tr>\n",
              "    <tr>\n",
              "      <th>2</th>\n",
              "      <td>2021-01-08</td>\n",
              "      <td>Austria</td>\n",
              "      <td>Oxford/AstraZeneca</td>\n",
              "      <td>0.0</td>\n",
              "    </tr>\n",
              "    <tr>\n",
              "      <th>3</th>\n",
              "      <td>2021-01-08</td>\n",
              "      <td>Austria</td>\n",
              "      <td>Pfizer/BioNTech</td>\n",
              "      <td>31150.0</td>\n",
              "    </tr>\n",
              "    <tr>\n",
              "      <th>4</th>\n",
              "      <td>2021-01-15</td>\n",
              "      <td>Austria</td>\n",
              "      <td>Johnson&amp;Johnson</td>\n",
              "      <td>0.0</td>\n",
              "    </tr>\n",
              "    <tr>\n",
              "      <th>...</th>\n",
              "      <td>...</td>\n",
              "      <td>...</td>\n",
              "      <td>...</td>\n",
              "      <td>...</td>\n",
              "    </tr>\n",
              "    <tr>\n",
              "      <th>4967</th>\n",
              "      <td>2021-09-03</td>\n",
              "      <td>United States</td>\n",
              "      <td>Moderna</td>\n",
              "      <td>146379359.0</td>\n",
              "    </tr>\n",
              "    <tr>\n",
              "      <th>4968</th>\n",
              "      <td>2021-09-03</td>\n",
              "      <td>United States</td>\n",
              "      <td>Pfizer/BioNTech</td>\n",
              "      <td>212319148.0</td>\n",
              "    </tr>\n",
              "    <tr>\n",
              "      <th>4969</th>\n",
              "      <td>2021-09-04</td>\n",
              "      <td>United States</td>\n",
              "      <td>Johnson&amp;Johnson</td>\n",
              "      <td>14492832.0</td>\n",
              "    </tr>\n",
              "    <tr>\n",
              "      <th>4970</th>\n",
              "      <td>2021-09-04</td>\n",
              "      <td>United States</td>\n",
              "      <td>Moderna</td>\n",
              "      <td>146657321.0</td>\n",
              "    </tr>\n",
              "    <tr>\n",
              "      <th>4971</th>\n",
              "      <td>2021-09-04</td>\n",
              "      <td>United States</td>\n",
              "      <td>Pfizer/BioNTech</td>\n",
              "      <td>212979842.0</td>\n",
              "    </tr>\n",
              "  </tbody>\n",
              "</table>\n",
              "<p>4972 rows × 4 columns</p>\n",
              "</div>"
            ],
            "text/plain": [
              "             day        country             vaccine    total_vax\n",
              "0     2021-01-08        Austria     Johnson&Johnson          0.0\n",
              "1     2021-01-08        Austria             Moderna          0.0\n",
              "2     2021-01-08        Austria  Oxford/AstraZeneca          0.0\n",
              "3     2021-01-08        Austria     Pfizer/BioNTech      31150.0\n",
              "4     2021-01-15        Austria     Johnson&Johnson          0.0\n",
              "...          ...            ...                 ...          ...\n",
              "4967  2021-09-03  United States             Moderna  146379359.0\n",
              "4968  2021-09-03  United States     Pfizer/BioNTech  212319148.0\n",
              "4969  2021-09-04  United States     Johnson&Johnson   14492832.0\n",
              "4970  2021-09-04  United States             Moderna  146657321.0\n",
              "4971  2021-09-04  United States     Pfizer/BioNTech  212979842.0\n",
              "\n",
              "[4972 rows x 4 columns]"
            ]
          },
          "metadata": {},
          "execution_count": 84
        }
      ]
    },
    {
      "cell_type": "markdown",
      "metadata": {
        "id": "HpGYD-KoCcB_"
      },
      "source": [
        "Now we can delete our temporary tables, since the tables of our database have been correctly created:"
      ]
    },
    {
      "cell_type": "code",
      "metadata": {
        "id": "hWZYNH7wAWJd"
      },
      "source": [
        "run_sql('''\n",
        "DROP TABLE countries_tmp\n",
        "''')"
      ],
      "execution_count": null,
      "outputs": []
    },
    {
      "cell_type": "code",
      "metadata": {
        "id": "Xu3g3mxDClIf"
      },
      "source": [
        "run_sql('''\n",
        "DROP TABLE covid_tmp\n",
        "''')"
      ],
      "execution_count": null,
      "outputs": []
    },
    {
      "cell_type": "code",
      "metadata": {
        "id": "SEvgHiEBd7ZI"
      },
      "source": [
        "run_sql('''\n",
        "DROP TABLE population_tmp\n",
        "''')"
      ],
      "execution_count": null,
      "outputs": []
    },
    {
      "cell_type": "code",
      "metadata": {
        "id": "aEOSjV0Vd7ZJ"
      },
      "source": [
        "run_sql('''\n",
        "DROP TABLE vax_tmp\n",
        "''')"
      ],
      "execution_count": null,
      "outputs": []
    },
    {
      "cell_type": "code",
      "metadata": {
        "id": "Q8V3P-a_d7ZJ"
      },
      "source": [
        "run_sql('''\n",
        "DROP TABLE vax_man_tmp\n",
        "''')"
      ],
      "execution_count": null,
      "outputs": []
    },
    {
      "cell_type": "markdown",
      "metadata": {
        "id": "kwQAAL4msAG0"
      },
      "source": [
        "At this point we downloaded the database \"database.db\" (panel on the left) that is included in the project's folder. "
      ]
    },
    {
      "cell_type": "markdown",
      "metadata": {
        "id": "7DX-1LFUNWtE"
      },
      "source": [
        "# 5. Queries\n",
        "\n",
        "In this section we run some queries on our database to collect interesting statistics.\n",
        "\n",
        "## 5.1 Query 1\n",
        "\n",
        "For a country, consider the value VAX obtained by dividing the number of people vaccinated up to today by\n",
        "the country’s population size. Return a list of all countries sorted by decreasing VAX (showing also the value\n",
        "of VAX for each listed country). Careful: the numbers in the vaccination CSV are cumulative."
      ]
    },
    {
      "cell_type": "code",
      "metadata": {
        "colab": {
          "base_uri": "https://localhost:8080/",
          "height": 359
        },
        "id": "XwBaB7gFd7ZJ",
        "outputId": "2e2423d6-fc13-407f-d656-1f8cfbb35dd1"
      },
      "source": [
        "run_sql(''' \n",
        "SELECT country, day, max(people_vaccinated) / population AS VAX\n",
        "FROM vax_record, countries\n",
        "WHERE country = name\n",
        "GROUP BY country\n",
        "''')"
      ],
      "execution_count": null,
      "outputs": [
        {
          "output_type": "execute_result",
          "data": {
            "text/html": [
              "<div>\n",
              "<style scoped>\n",
              "    .dataframe tbody tr th:only-of-type {\n",
              "        vertical-align: middle;\n",
              "    }\n",
              "\n",
              "    .dataframe tbody tr th {\n",
              "        vertical-align: top;\n",
              "    }\n",
              "\n",
              "    .dataframe thead th {\n",
              "        text-align: right;\n",
              "    }\n",
              "</style>\n",
              "<table border=\"1\" class=\"dataframe\">\n",
              "  <thead>\n",
              "    <tr style=\"text-align: right;\">\n",
              "      <th></th>\n",
              "      <th>country</th>\n",
              "      <th>day</th>\n",
              "      <th>VAX</th>\n",
              "    </tr>\n",
              "  </thead>\n",
              "  <tbody>\n",
              "    <tr>\n",
              "      <th>0</th>\n",
              "      <td>Austria</td>\n",
              "      <td>2021-09-06</td>\n",
              "      <td>0.614987</td>\n",
              "    </tr>\n",
              "    <tr>\n",
              "      <th>1</th>\n",
              "      <td>Chile</td>\n",
              "      <td>2021-09-06</td>\n",
              "      <td>0.754776</td>\n",
              "    </tr>\n",
              "    <tr>\n",
              "      <th>2</th>\n",
              "      <td>France</td>\n",
              "      <td>2021-09-06</td>\n",
              "      <td>0.751472</td>\n",
              "    </tr>\n",
              "    <tr>\n",
              "      <th>3</th>\n",
              "      <td>Italy</td>\n",
              "      <td>2021-09-06</td>\n",
              "      <td>0.716094</td>\n",
              "    </tr>\n",
              "    <tr>\n",
              "      <th>4</th>\n",
              "      <td>Japan</td>\n",
              "      <td>2021-09-06</td>\n",
              "      <td>0.593841</td>\n",
              "    </tr>\n",
              "    <tr>\n",
              "      <th>5</th>\n",
              "      <td>Netherlands</td>\n",
              "      <td>2021-09-05</td>\n",
              "      <td>0.700156</td>\n",
              "    </tr>\n",
              "    <tr>\n",
              "      <th>6</th>\n",
              "      <td>South Korea</td>\n",
              "      <td>2021-09-06</td>\n",
              "      <td>0.599630</td>\n",
              "    </tr>\n",
              "    <tr>\n",
              "      <th>7</th>\n",
              "      <td>Sweden</td>\n",
              "      <td>2021-09-03</td>\n",
              "      <td>0.685883</td>\n",
              "    </tr>\n",
              "    <tr>\n",
              "      <th>8</th>\n",
              "      <td>Switzerland</td>\n",
              "      <td>2021-09-06</td>\n",
              "      <td>0.584308</td>\n",
              "    </tr>\n",
              "    <tr>\n",
              "      <th>9</th>\n",
              "      <td>United States</td>\n",
              "      <td>2021-09-04</td>\n",
              "      <td>0.624458</td>\n",
              "    </tr>\n",
              "  </tbody>\n",
              "</table>\n",
              "</div>"
            ],
            "text/plain": [
              "         country         day       VAX\n",
              "0        Austria  2021-09-06  0.614987\n",
              "1          Chile  2021-09-06  0.754776\n",
              "2         France  2021-09-06  0.751472\n",
              "3          Italy  2021-09-06  0.716094\n",
              "4          Japan  2021-09-06  0.593841\n",
              "5    Netherlands  2021-09-05  0.700156\n",
              "6    South Korea  2021-09-06  0.599630\n",
              "7         Sweden  2021-09-03  0.685883\n",
              "8    Switzerland  2021-09-06  0.584308\n",
              "9  United States  2021-09-04  0.624458"
            ]
          },
          "metadata": {},
          "execution_count": 33
        }
      ]
    },
    {
      "cell_type": "markdown",
      "metadata": {
        "id": "J5FEObifIcdJ"
      },
      "source": [
        "## Query 2\n",
        "\n",
        "Find the country in the database that had the smallest number of confirmed covid cases per square kilometer\n",
        "(up to today).\n"
      ]
    },
    {
      "cell_type": "code",
      "metadata": {
        "colab": {
          "base_uri": "https://localhost:8080/",
          "height": 359
        },
        "id": "OavQnbHuJaeJ",
        "scrolled": true,
        "outputId": "2ba7c06e-cd2e-4934-da85-ad34dfc10a6b"
      },
      "source": [
        "run_sql('''\n",
        "SELECT name, area / max(confirmed) AS covid_per_km   -- basically, max(confirmed) gives us the latest day available in the table\n",
        "FROM countries, covid_record\n",
        "WHERE name = country\n",
        "GROUP BY name\n",
        "ORDER BY covid_per_km ASC\n",
        "''')\n",
        "\n",
        "# the first row in the table is the answer for the query (i.e: Netherlands)"
      ],
      "execution_count": null,
      "outputs": [
        {
          "output_type": "execute_result",
          "data": {
            "text/html": [
              "<div>\n",
              "<style scoped>\n",
              "    .dataframe tbody tr th:only-of-type {\n",
              "        vertical-align: middle;\n",
              "    }\n",
              "\n",
              "    .dataframe tbody tr th {\n",
              "        vertical-align: top;\n",
              "    }\n",
              "\n",
              "    .dataframe thead th {\n",
              "        text-align: right;\n",
              "    }\n",
              "</style>\n",
              "<table border=\"1\" class=\"dataframe\">\n",
              "  <thead>\n",
              "    <tr style=\"text-align: right;\">\n",
              "      <th></th>\n",
              "      <th>name</th>\n",
              "      <th>covid_per_km</th>\n",
              "    </tr>\n",
              "  </thead>\n",
              "  <tbody>\n",
              "    <tr>\n",
              "      <th>0</th>\n",
              "      <td>Netherlands</td>\n",
              "      <td>0.016924</td>\n",
              "    </tr>\n",
              "    <tr>\n",
              "      <th>1</th>\n",
              "      <td>Switzerland</td>\n",
              "      <td>0.050294</td>\n",
              "    </tr>\n",
              "    <tr>\n",
              "      <th>2</th>\n",
              "      <td>Italy</td>\n",
              "      <td>0.064296</td>\n",
              "    </tr>\n",
              "    <tr>\n",
              "      <th>3</th>\n",
              "      <td>France</td>\n",
              "      <td>0.079077</td>\n",
              "    </tr>\n",
              "    <tr>\n",
              "      <th>4</th>\n",
              "      <td>Austria</td>\n",
              "      <td>0.118147</td>\n",
              "    </tr>\n",
              "    <tr>\n",
              "      <th>5</th>\n",
              "      <td>United States</td>\n",
              "      <td>0.228581</td>\n",
              "    </tr>\n",
              "    <tr>\n",
              "      <th>6</th>\n",
              "      <td>Japan</td>\n",
              "      <td>0.230197</td>\n",
              "    </tr>\n",
              "    <tr>\n",
              "      <th>7</th>\n",
              "      <td>Sweden</td>\n",
              "      <td>0.362964</td>\n",
              "    </tr>\n",
              "    <tr>\n",
              "      <th>8</th>\n",
              "      <td>South Korea</td>\n",
              "      <td>0.369171</td>\n",
              "    </tr>\n",
              "    <tr>\n",
              "      <th>9</th>\n",
              "      <td>Chile</td>\n",
              "      <td>0.452952</td>\n",
              "    </tr>\n",
              "  </tbody>\n",
              "</table>\n",
              "</div>"
            ],
            "text/plain": [
              "            name  covid_per_km\n",
              "0    Netherlands      0.016924\n",
              "1    Switzerland      0.050294\n",
              "2          Italy      0.064296\n",
              "3         France      0.079077\n",
              "4        Austria      0.118147\n",
              "5  United States      0.228581\n",
              "6          Japan      0.230197\n",
              "7         Sweden      0.362964\n",
              "8    South Korea      0.369171\n",
              "9          Chile      0.452952"
            ]
          },
          "metadata": {},
          "execution_count": 34
        }
      ]
    },
    {
      "cell_type": "markdown",
      "metadata": {
        "id": "C_FLbOSId7ZK"
      },
      "source": [
        "## Query 3\n",
        "\n",
        "Which country (among those in the database) in the northern hemisphere had the largest relative number of\n",
        "covid deaths in October 2020? and in the southern hemisphere? (relative means that you have to divide the\n",
        "covid cases by the country population size).\n"
      ]
    },
    {
      "cell_type": "code",
      "metadata": {
        "colab": {
          "base_uri": "https://localhost:8080/",
          "height": 328
        },
        "id": "7K0OQaeBd7ZK",
        "outputId": "0abc01e2-175d-45ac-9ead-171cbe50f8a8"
      },
      "source": [
        "#northern\n",
        "run_sql('''\n",
        "SELECT country, day, confirmed / population as rate\n",
        "FROM covid_record, countries\n",
        "WHERE day = \"2020-10-31\" and latitude > 0 and name = country\n",
        "ORDER BY rate DESC\n",
        "''')\n",
        "\n",
        "#answer is the first row in our table (i.e: United States)"
      ],
      "execution_count": null,
      "outputs": [
        {
          "output_type": "execute_result",
          "data": {
            "text/html": [
              "<div>\n",
              "<style scoped>\n",
              "    .dataframe tbody tr th:only-of-type {\n",
              "        vertical-align: middle;\n",
              "    }\n",
              "\n",
              "    .dataframe tbody tr th {\n",
              "        vertical-align: top;\n",
              "    }\n",
              "\n",
              "    .dataframe thead th {\n",
              "        text-align: right;\n",
              "    }\n",
              "</style>\n",
              "<table border=\"1\" class=\"dataframe\">\n",
              "  <thead>\n",
              "    <tr style=\"text-align: right;\">\n",
              "      <th></th>\n",
              "      <th>country</th>\n",
              "      <th>day</th>\n",
              "      <th>rate</th>\n",
              "    </tr>\n",
              "  </thead>\n",
              "  <tbody>\n",
              "    <tr>\n",
              "      <th>0</th>\n",
              "      <td>United States</td>\n",
              "      <td>2020-10-31</td>\n",
              "      <td>0.027663</td>\n",
              "    </tr>\n",
              "    <tr>\n",
              "      <th>1</th>\n",
              "      <td>France</td>\n",
              "      <td>2020-10-31</td>\n",
              "      <td>0.021660</td>\n",
              "    </tr>\n",
              "    <tr>\n",
              "      <th>2</th>\n",
              "      <td>Netherlands</td>\n",
              "      <td>2020-10-31</td>\n",
              "      <td>0.020864</td>\n",
              "    </tr>\n",
              "    <tr>\n",
              "      <th>3</th>\n",
              "      <td>Switzerland</td>\n",
              "      <td>2020-10-31</td>\n",
              "      <td>0.017800</td>\n",
              "    </tr>\n",
              "    <tr>\n",
              "      <th>4</th>\n",
              "      <td>Sweden</td>\n",
              "      <td>2020-10-31</td>\n",
              "      <td>0.012300</td>\n",
              "    </tr>\n",
              "    <tr>\n",
              "      <th>5</th>\n",
              "      <td>Austria</td>\n",
              "      <td>2020-10-31</td>\n",
              "      <td>0.011638</td>\n",
              "    </tr>\n",
              "    <tr>\n",
              "      <th>6</th>\n",
              "      <td>Italy</td>\n",
              "      <td>2020-10-31</td>\n",
              "      <td>0.011240</td>\n",
              "    </tr>\n",
              "    <tr>\n",
              "      <th>7</th>\n",
              "      <td>Japan</td>\n",
              "      <td>2020-10-31</td>\n",
              "      <td>0.000802</td>\n",
              "    </tr>\n",
              "    <tr>\n",
              "      <th>8</th>\n",
              "      <td>South Korea</td>\n",
              "      <td>2020-10-31</td>\n",
              "      <td>0.000519</td>\n",
              "    </tr>\n",
              "  </tbody>\n",
              "</table>\n",
              "</div>"
            ],
            "text/plain": [
              "         country         day      rate\n",
              "0  United States  2020-10-31  0.027663\n",
              "1         France  2020-10-31  0.021660\n",
              "2    Netherlands  2020-10-31  0.020864\n",
              "3    Switzerland  2020-10-31  0.017800\n",
              "4         Sweden  2020-10-31  0.012300\n",
              "5        Austria  2020-10-31  0.011638\n",
              "6          Italy  2020-10-31  0.011240\n",
              "7          Japan  2020-10-31  0.000802\n",
              "8    South Korea  2020-10-31  0.000519"
            ]
          },
          "metadata": {},
          "execution_count": 35
        }
      ]
    },
    {
      "cell_type": "code",
      "metadata": {
        "colab": {
          "base_uri": "https://localhost:8080/",
          "height": 80
        },
        "id": "Mmcz3nh9d7ZK",
        "outputId": "bd3a40eb-01a8-4af3-acc6-fe1f4edd71eb"
      },
      "source": [
        "#southern\n",
        "run_sql('''\n",
        "SELECT country, day, confirmed / population\n",
        "FROM covid_record, countries\n",
        "WHERE day = \"2020-10-31\" and latitude < 0 and name = country\n",
        "''')\n",
        "\n",
        "# We only have Chile as a result of the query and this is also the asnwer."
      ],
      "execution_count": null,
      "outputs": [
        {
          "output_type": "execute_result",
          "data": {
            "text/html": [
              "<div>\n",
              "<style scoped>\n",
              "    .dataframe tbody tr th:only-of-type {\n",
              "        vertical-align: middle;\n",
              "    }\n",
              "\n",
              "    .dataframe tbody tr th {\n",
              "        vertical-align: top;\n",
              "    }\n",
              "\n",
              "    .dataframe thead th {\n",
              "        text-align: right;\n",
              "    }\n",
              "</style>\n",
              "<table border=\"1\" class=\"dataframe\">\n",
              "  <thead>\n",
              "    <tr style=\"text-align: right;\">\n",
              "      <th></th>\n",
              "      <th>country</th>\n",
              "      <th>day</th>\n",
              "      <th>confirmed / population</th>\n",
              "    </tr>\n",
              "  </thead>\n",
              "  <tbody>\n",
              "    <tr>\n",
              "      <th>0</th>\n",
              "      <td>Chile</td>\n",
              "      <td>2020-10-31</td>\n",
              "      <td>0.026653</td>\n",
              "    </tr>\n",
              "  </tbody>\n",
              "</table>\n",
              "</div>"
            ],
            "text/plain": [
              "  country         day  confirmed / population\n",
              "0   Chile  2020-10-31                0.026653"
            ]
          },
          "metadata": {},
          "execution_count": 36
        }
      ]
    },
    {
      "cell_type": "markdown",
      "metadata": {
        "id": "huc-syjBd7ZK"
      },
      "source": [
        "## Query 4\n",
        "\n",
        "Consider the rate R computed by dividing the (cumulative) number of covid cases by the (cumulative) number\n",
        "of vaccinated people in a particular country on a particular day. Which country has the lowest R today?\n"
      ]
    },
    {
      "cell_type": "code",
      "metadata": {
        "colab": {
          "base_uri": "https://localhost:8080/",
          "height": 359
        },
        "id": "E3IvUJgud7ZL",
        "outputId": "b4c6c2c8-35f5-4a2f-d7de-e28fcc5effef"
      },
      "source": [
        "run_sql('''\n",
        "SELECT c.country, c.day, max(confirmed) / max(people_vaccinated) as R\n",
        "FROM covid_record as c, vax_record as v\n",
        "WHERE c.country = v.country\n",
        "GROUP BY c.country\n",
        "ORDER BY R ASC\n",
        "''')\n",
        "\n",
        "#answer is the first row (i.e: South Korea)"
      ],
      "execution_count": null,
      "outputs": [
        {
          "output_type": "execute_result",
          "data": {
            "text/html": [
              "<div>\n",
              "<style scoped>\n",
              "    .dataframe tbody tr th:only-of-type {\n",
              "        vertical-align: middle;\n",
              "    }\n",
              "\n",
              "    .dataframe tbody tr th {\n",
              "        vertical-align: top;\n",
              "    }\n",
              "\n",
              "    .dataframe thead th {\n",
              "        text-align: right;\n",
              "    }\n",
              "</style>\n",
              "<table border=\"1\" class=\"dataframe\">\n",
              "  <thead>\n",
              "    <tr style=\"text-align: right;\">\n",
              "      <th></th>\n",
              "      <th>country</th>\n",
              "      <th>day</th>\n",
              "      <th>R</th>\n",
              "    </tr>\n",
              "  </thead>\n",
              "  <tbody>\n",
              "    <tr>\n",
              "      <th>0</th>\n",
              "      <td>South Korea</td>\n",
              "      <td>2020-01-22</td>\n",
              "      <td>0.008566</td>\n",
              "    </tr>\n",
              "    <tr>\n",
              "      <th>1</th>\n",
              "      <td>Japan</td>\n",
              "      <td>2020-01-22</td>\n",
              "      <td>0.021097</td>\n",
              "    </tr>\n",
              "    <tr>\n",
              "      <th>2</th>\n",
              "      <td>Italy</td>\n",
              "      <td>2020-01-22</td>\n",
              "      <td>0.105690</td>\n",
              "    </tr>\n",
              "    <tr>\n",
              "      <th>3</th>\n",
              "      <td>Chile</td>\n",
              "      <td>2020-01-22</td>\n",
              "      <td>0.113601</td>\n",
              "    </tr>\n",
              "    <tr>\n",
              "      <th>4</th>\n",
              "      <td>Austria</td>\n",
              "      <td>2020-01-22</td>\n",
              "      <td>0.125806</td>\n",
              "    </tr>\n",
              "    <tr>\n",
              "      <th>5</th>\n",
              "      <td>France</td>\n",
              "      <td>2020-01-22</td>\n",
              "      <td>0.141110</td>\n",
              "    </tr>\n",
              "    <tr>\n",
              "      <th>6</th>\n",
              "      <td>Switzerland</td>\n",
              "      <td>2020-01-22</td>\n",
              "      <td>0.155172</td>\n",
              "    </tr>\n",
              "    <tr>\n",
              "      <th>7</th>\n",
              "      <td>Sweden</td>\n",
              "      <td>2020-01-22</td>\n",
              "      <td>0.163031</td>\n",
              "    </tr>\n",
              "    <tr>\n",
              "      <th>8</th>\n",
              "      <td>Netherlands</td>\n",
              "      <td>2020-01-22</td>\n",
              "      <td>0.166008</td>\n",
              "    </tr>\n",
              "    <tr>\n",
              "      <th>9</th>\n",
              "      <td>United States</td>\n",
              "      <td>2020-01-22</td>\n",
              "      <td>0.193411</td>\n",
              "    </tr>\n",
              "  </tbody>\n",
              "</table>\n",
              "</div>"
            ],
            "text/plain": [
              "         country         day         R\n",
              "0    South Korea  2020-01-22  0.008566\n",
              "1          Japan  2020-01-22  0.021097\n",
              "2          Italy  2020-01-22  0.105690\n",
              "3          Chile  2020-01-22  0.113601\n",
              "4        Austria  2020-01-22  0.125806\n",
              "5         France  2020-01-22  0.141110\n",
              "6    Switzerland  2020-01-22  0.155172\n",
              "7         Sweden  2020-01-22  0.163031\n",
              "8    Netherlands  2020-01-22  0.166008\n",
              "9  United States  2020-01-22  0.193411"
            ]
          },
          "metadata": {},
          "execution_count": 37
        }
      ]
    },
    {
      "cell_type": "markdown",
      "metadata": {
        "id": "p2cWX6Ied7ZL"
      },
      "source": [
        "## Query 5\n",
        "\n",
        "Which country among those administering the Pfizer/BioNTech vaccine, has the lowest relative number of\n",
        "covid deaths up to today (i.e. covid deaths divided by population size)?"
      ]
    },
    {
      "cell_type": "markdown",
      "metadata": {
        "id": "z0vFe_DTd7ZL"
      },
      "source": [
        "Here, we have to connect three tables with each other in order to get the result:"
      ]
    },
    {
      "cell_type": "code",
      "metadata": {
        "colab": {
          "base_uri": "https://localhost:8080/",
          "height": 359
        },
        "id": "8Sod9dlnd7ZL",
        "outputId": "18b89262-03bd-4752-d5d3-55f5509d9dcb"
      },
      "source": [
        "run_sql('''\n",
        "SELECT c.country, c.day, max(deaths) / population as rate\n",
        "FROM covid_record as c, vax_man as v, countries\n",
        "WHERE c.country = v.country  AND v.country = name AND vaccine = \"Pfizer/BioNTech\"\n",
        "GROUP BY name\n",
        "ORDER BY rate ASC\n",
        "''')\n",
        "\n",
        "# First row is the answer: South Korea"
      ],
      "execution_count": null,
      "outputs": [
        {
          "output_type": "execute_result",
          "data": {
            "text/html": [
              "<div>\n",
              "<style scoped>\n",
              "    .dataframe tbody tr th:only-of-type {\n",
              "        vertical-align: middle;\n",
              "    }\n",
              "\n",
              "    .dataframe tbody tr th {\n",
              "        vertical-align: top;\n",
              "    }\n",
              "\n",
              "    .dataframe thead th {\n",
              "        text-align: right;\n",
              "    }\n",
              "</style>\n",
              "<table border=\"1\" class=\"dataframe\">\n",
              "  <thead>\n",
              "    <tr style=\"text-align: right;\">\n",
              "      <th></th>\n",
              "      <th>country</th>\n",
              "      <th>day</th>\n",
              "      <th>rate</th>\n",
              "    </tr>\n",
              "  </thead>\n",
              "  <tbody>\n",
              "    <tr>\n",
              "      <th>0</th>\n",
              "      <td>South Korea</td>\n",
              "      <td>2021-09-06</td>\n",
              "      <td>0.000045</td>\n",
              "    </tr>\n",
              "    <tr>\n",
              "      <th>1</th>\n",
              "      <td>Japan</td>\n",
              "      <td>2021-09-06</td>\n",
              "      <td>0.000130</td>\n",
              "    </tr>\n",
              "    <tr>\n",
              "      <th>2</th>\n",
              "      <td>Netherlands</td>\n",
              "      <td>2021-09-06</td>\n",
              "      <td>0.001074</td>\n",
              "    </tr>\n",
              "    <tr>\n",
              "      <th>3</th>\n",
              "      <td>Austria</td>\n",
              "      <td>2021-09-06</td>\n",
              "      <td>0.001198</td>\n",
              "    </tr>\n",
              "    <tr>\n",
              "      <th>4</th>\n",
              "      <td>Switzerland</td>\n",
              "      <td>2021-09-02</td>\n",
              "      <td>0.001271</td>\n",
              "    </tr>\n",
              "    <tr>\n",
              "      <th>5</th>\n",
              "      <td>Sweden</td>\n",
              "      <td>2021-08-31</td>\n",
              "      <td>0.001453</td>\n",
              "    </tr>\n",
              "    <tr>\n",
              "      <th>6</th>\n",
              "      <td>France</td>\n",
              "      <td>2021-09-06</td>\n",
              "      <td>0.001770</td>\n",
              "    </tr>\n",
              "    <tr>\n",
              "      <th>7</th>\n",
              "      <td>Chile</td>\n",
              "      <td>2021-09-06</td>\n",
              "      <td>0.001938</td>\n",
              "    </tr>\n",
              "    <tr>\n",
              "      <th>8</th>\n",
              "      <td>United States</td>\n",
              "      <td>2021-09-06</td>\n",
              "      <td>0.001959</td>\n",
              "    </tr>\n",
              "    <tr>\n",
              "      <th>9</th>\n",
              "      <td>Italy</td>\n",
              "      <td>2021-09-06</td>\n",
              "      <td>0.002144</td>\n",
              "    </tr>\n",
              "  </tbody>\n",
              "</table>\n",
              "</div>"
            ],
            "text/plain": [
              "         country         day      rate\n",
              "0    South Korea  2021-09-06  0.000045\n",
              "1          Japan  2021-09-06  0.000130\n",
              "2    Netherlands  2021-09-06  0.001074\n",
              "3        Austria  2021-09-06  0.001198\n",
              "4    Switzerland  2021-09-02  0.001271\n",
              "5         Sweden  2021-08-31  0.001453\n",
              "6         France  2021-09-06  0.001770\n",
              "7          Chile  2021-09-06  0.001938\n",
              "8  United States  2021-09-06  0.001959\n",
              "9          Italy  2021-09-06  0.002144"
            ]
          },
          "metadata": {},
          "execution_count": 38
        }
      ]
    },
    {
      "cell_type": "markdown",
      "metadata": {
        "id": "brSUOyTDd7ZL"
      },
      "source": [
        "## Query 6\n",
        "\n",
        "For each country, count the number of distinct manufacturers selling vaccines to that country (for example,\n",
        "Chile administers the vaccines Sinovac and Pfizer/BioNTech, so this number for Chile is 2). Order countries\n",
        "by this number (decreasing)."
      ]
    },
    {
      "cell_type": "markdown",
      "metadata": {
        "id": "Gnd1XxrZd7ZL"
      },
      "source": [
        "I assume that the data has been updated since then, and now countries are administering more vaccine types."
      ]
    },
    {
      "cell_type": "code",
      "metadata": {
        "colab": {
          "base_uri": "https://localhost:8080/",
          "height": 359
        },
        "id": "PZIRJk48d7ZM",
        "outputId": "f5fb0cda-c869-4d24-e317-a7e92c322106"
      },
      "source": [
        "run_sql('''\n",
        "SELECT country, count(DISTINCT vaccine) as num\n",
        "FROM vax_man\n",
        "GROUP BY country\n",
        "ORDER BY num DESC\n",
        "''')"
      ],
      "execution_count": null,
      "outputs": [
        {
          "output_type": "execute_result",
          "data": {
            "text/html": [
              "<div>\n",
              "<style scoped>\n",
              "    .dataframe tbody tr th:only-of-type {\n",
              "        vertical-align: middle;\n",
              "    }\n",
              "\n",
              "    .dataframe tbody tr th {\n",
              "        vertical-align: top;\n",
              "    }\n",
              "\n",
              "    .dataframe thead th {\n",
              "        text-align: right;\n",
              "    }\n",
              "</style>\n",
              "<table border=\"1\" class=\"dataframe\">\n",
              "  <thead>\n",
              "    <tr style=\"text-align: right;\">\n",
              "      <th></th>\n",
              "      <th>country</th>\n",
              "      <th>num</th>\n",
              "    </tr>\n",
              "  </thead>\n",
              "  <tbody>\n",
              "    <tr>\n",
              "      <th>0</th>\n",
              "      <td>Austria</td>\n",
              "      <td>4</td>\n",
              "    </tr>\n",
              "    <tr>\n",
              "      <th>1</th>\n",
              "      <td>Chile</td>\n",
              "      <td>4</td>\n",
              "    </tr>\n",
              "    <tr>\n",
              "      <th>2</th>\n",
              "      <td>France</td>\n",
              "      <td>4</td>\n",
              "    </tr>\n",
              "    <tr>\n",
              "      <th>3</th>\n",
              "      <td>Italy</td>\n",
              "      <td>4</td>\n",
              "    </tr>\n",
              "    <tr>\n",
              "      <th>4</th>\n",
              "      <td>Netherlands</td>\n",
              "      <td>4</td>\n",
              "    </tr>\n",
              "    <tr>\n",
              "      <th>5</th>\n",
              "      <td>South Korea</td>\n",
              "      <td>4</td>\n",
              "    </tr>\n",
              "    <tr>\n",
              "      <th>6</th>\n",
              "      <td>Sweden</td>\n",
              "      <td>3</td>\n",
              "    </tr>\n",
              "    <tr>\n",
              "      <th>7</th>\n",
              "      <td>United States</td>\n",
              "      <td>3</td>\n",
              "    </tr>\n",
              "    <tr>\n",
              "      <th>8</th>\n",
              "      <td>Japan</td>\n",
              "      <td>2</td>\n",
              "    </tr>\n",
              "    <tr>\n",
              "      <th>9</th>\n",
              "      <td>Switzerland</td>\n",
              "      <td>2</td>\n",
              "    </tr>\n",
              "  </tbody>\n",
              "</table>\n",
              "</div>"
            ],
            "text/plain": [
              "         country  num\n",
              "0        Austria    4\n",
              "1          Chile    4\n",
              "2         France    4\n",
              "3          Italy    4\n",
              "4    Netherlands    4\n",
              "5    South Korea    4\n",
              "6         Sweden    3\n",
              "7  United States    3\n",
              "8          Japan    2\n",
              "9    Switzerland    2"
            ]
          },
          "metadata": {},
          "execution_count": 39
        }
      ]
    },
    {
      "cell_type": "markdown",
      "metadata": {
        "id": "EmhCpYXwNYvn"
      },
      "source": [
        "# 6. Data Visualization\n",
        "\n",
        "## 6.1 number of vaccines versus covid cases in Italy and the US\n",
        "\n",
        "We now study the number of vaccinated people and number of cumulative COVID cases in Italy and US from Sept 2020 until now, to discover if there is a relation between the two.\n",
        "\n",
        "(IMPORTANT: Since we decided to keep just 10 countries in our database, Great Britain and Israel were not selected among those 10 countries. However, I think looking at the situation in Italy and the US is also interesting)\n",
        "\n",
        "Idea: we write a SQL query that creates a dataframe with the following schema:\n",
        "\n",
        "record(country, day, number, type)\n",
        "\n",
        "where type can be either \"vax\" or \"covid\". Column \"number\" is the number of vaccines/covid cases on that day. Then we will filter data relative to Italy and the US in the period Sept.2020-now and visualize it. "
      ]
    },
    {
      "cell_type": "code",
      "metadata": {
        "id": "C77bHvOxO5aA"
      },
      "source": [
        "run_sql('''\n",
        "CREATE TABLE record(\n",
        "  country VARCHAR(50),\n",
        "  day DATE, \n",
        "  number INT,\n",
        "  type VARCHAR(50)\n",
        ")\n",
        "''')"
      ],
      "execution_count": null,
      "outputs": []
    },
    {
      "cell_type": "markdown",
      "metadata": {
        "id": "dDYVWHx5PPNe"
      },
      "source": [
        "We start by inserting in this table all cumulative covid cases:"
      ]
    },
    {
      "cell_type": "code",
      "metadata": {
        "id": "EJlB5Iv9OxMb"
      },
      "source": [
        "run_sql('''\n",
        "INSERT INTO record\n",
        "SELECT country, day, confirmed, \"covid_cases\"\n",
        "FROM covid_record\n",
        "''')"
      ],
      "execution_count": null,
      "outputs": []
    },
    {
      "cell_type": "markdown",
      "metadata": {
        "id": "p3YeNXF8d7ZM"
      },
      "source": [
        "Now we insert death records:"
      ]
    },
    {
      "cell_type": "code",
      "metadata": {
        "id": "74ewMp-vd7ZN"
      },
      "source": [
        "run_sql('''\n",
        "INSERT INTO record\n",
        "SELECT country, day, deaths, \"covid_deaths\"\n",
        "FROM covid_record\n",
        "''')"
      ],
      "execution_count": null,
      "outputs": []
    },
    {
      "cell_type": "markdown",
      "metadata": {
        "id": "JAXlQcKmPojc"
      },
      "source": [
        "Then, we insert all cumulative vaccination numbers:"
      ]
    },
    {
      "cell_type": "code",
      "metadata": {
        "id": "cpgtl3k3PxIX"
      },
      "source": [
        "run_sql('''\n",
        "INSERT INTO record\n",
        "SELECT country, day, people_vaccinated, \"vaccinated_people\"\n",
        "FROM vax_record\n",
        "''')"
      ],
      "execution_count": null,
      "outputs": []
    },
    {
      "cell_type": "markdown",
      "metadata": {
        "id": "2wGI_5qpQCYc"
      },
      "source": [
        "We store the content of the table in a dataframe and visualize it:"
      ]
    },
    {
      "cell_type": "code",
      "metadata": {
        "colab": {
          "base_uri": "https://localhost:8080/",
          "height": 419
        },
        "id": "CNkO2xb_Phpq",
        "outputId": "a51cf8c4-df69-4108-dbac-8b3014a05520"
      },
      "source": [
        "#for Italy\n",
        "vax_cases_corr_it = run_sql('''\n",
        "SELECT * \n",
        "FROM record\n",
        "WHERE country = \"Italy\" and day >= \"2020-09-01\" -- selecting days after 2020 September\n",
        "''');\n",
        "\n",
        "#for US\n",
        "vax_cases_corr_us = run_sql('''\n",
        "SELECT * \n",
        "FROM record\n",
        "WHERE country = \"United States\" and day >= \"2020-09-01\"\n",
        "''');\n",
        "\n",
        "#formating the days so that Seaborn can plot them nicely on the x axis\n",
        "vax_cases_corr_it['day'] = pd.to_datetime(vax_cases_corr_it['day'], format = '%Y-%m-%d')\n",
        "vax_cases_corr_us['day'] = pd.to_datetime(vax_cases_corr_us['day'], format = '%Y-%m-%d')\n",
        "\n",
        "vax_cases_corr_it"
      ],
      "execution_count": null,
      "outputs": [
        {
          "output_type": "execute_result",
          "data": {
            "text/html": [
              "<div>\n",
              "<style scoped>\n",
              "    .dataframe tbody tr th:only-of-type {\n",
              "        vertical-align: middle;\n",
              "    }\n",
              "\n",
              "    .dataframe tbody tr th {\n",
              "        vertical-align: top;\n",
              "    }\n",
              "\n",
              "    .dataframe thead th {\n",
              "        text-align: right;\n",
              "    }\n",
              "</style>\n",
              "<table border=\"1\" class=\"dataframe\">\n",
              "  <thead>\n",
              "    <tr style=\"text-align: right;\">\n",
              "      <th></th>\n",
              "      <th>country</th>\n",
              "      <th>day</th>\n",
              "      <th>number</th>\n",
              "      <th>type</th>\n",
              "    </tr>\n",
              "  </thead>\n",
              "  <tbody>\n",
              "    <tr>\n",
              "      <th>0</th>\n",
              "      <td>Italy</td>\n",
              "      <td>2020-09-01</td>\n",
              "      <td>270189</td>\n",
              "      <td>covid_cases</td>\n",
              "    </tr>\n",
              "    <tr>\n",
              "      <th>1</th>\n",
              "      <td>Italy</td>\n",
              "      <td>2020-09-02</td>\n",
              "      <td>271515</td>\n",
              "      <td>covid_cases</td>\n",
              "    </tr>\n",
              "    <tr>\n",
              "      <th>2</th>\n",
              "      <td>Italy</td>\n",
              "      <td>2020-09-03</td>\n",
              "      <td>272912</td>\n",
              "      <td>covid_cases</td>\n",
              "    </tr>\n",
              "    <tr>\n",
              "      <th>3</th>\n",
              "      <td>Italy</td>\n",
              "      <td>2020-09-04</td>\n",
              "      <td>274644</td>\n",
              "      <td>covid_cases</td>\n",
              "    </tr>\n",
              "    <tr>\n",
              "      <th>4</th>\n",
              "      <td>Italy</td>\n",
              "      <td>2020-09-05</td>\n",
              "      <td>276338</td>\n",
              "      <td>covid_cases</td>\n",
              "    </tr>\n",
              "    <tr>\n",
              "      <th>...</th>\n",
              "      <td>...</td>\n",
              "      <td>...</td>\n",
              "      <td>...</td>\n",
              "      <td>...</td>\n",
              "    </tr>\n",
              "    <tr>\n",
              "      <th>991</th>\n",
              "      <td>Italy</td>\n",
              "      <td>2021-09-02</td>\n",
              "      <td>42905918</td>\n",
              "      <td>vaccinated_people</td>\n",
              "    </tr>\n",
              "    <tr>\n",
              "      <th>992</th>\n",
              "      <td>Italy</td>\n",
              "      <td>2021-09-03</td>\n",
              "      <td>43021636</td>\n",
              "      <td>vaccinated_people</td>\n",
              "    </tr>\n",
              "    <tr>\n",
              "      <th>993</th>\n",
              "      <td>Italy</td>\n",
              "      <td>2021-09-04</td>\n",
              "      <td>43119705</td>\n",
              "      <td>vaccinated_people</td>\n",
              "    </tr>\n",
              "    <tr>\n",
              "      <th>994</th>\n",
              "      <td>Italy</td>\n",
              "      <td>2021-09-05</td>\n",
              "      <td>43179785</td>\n",
              "      <td>vaccinated_people</td>\n",
              "    </tr>\n",
              "    <tr>\n",
              "      <th>995</th>\n",
              "      <td>Italy</td>\n",
              "      <td>2021-09-06</td>\n",
              "      <td>43285067</td>\n",
              "      <td>vaccinated_people</td>\n",
              "    </tr>\n",
              "  </tbody>\n",
              "</table>\n",
              "<p>996 rows × 4 columns</p>\n",
              "</div>"
            ],
            "text/plain": [
              "    country        day    number               type\n",
              "0     Italy 2020-09-01    270189        covid_cases\n",
              "1     Italy 2020-09-02    271515        covid_cases\n",
              "2     Italy 2020-09-03    272912        covid_cases\n",
              "3     Italy 2020-09-04    274644        covid_cases\n",
              "4     Italy 2020-09-05    276338        covid_cases\n",
              "..      ...        ...       ...                ...\n",
              "991   Italy 2021-09-02  42905918  vaccinated_people\n",
              "992   Italy 2021-09-03  43021636  vaccinated_people\n",
              "993   Italy 2021-09-04  43119705  vaccinated_people\n",
              "994   Italy 2021-09-05  43179785  vaccinated_people\n",
              "995   Italy 2021-09-06  43285067  vaccinated_people\n",
              "\n",
              "[996 rows x 4 columns]"
            ]
          },
          "metadata": {},
          "execution_count": 44
        }
      ]
    },
    {
      "cell_type": "markdown",
      "metadata": {
        "id": "nIpEb2OlQO2Y"
      },
      "source": [
        "Finally, we can plot this data creating one line for \"vaccine\", one for \"covid_cases\" and one for deaths"
      ]
    },
    {
      "cell_type": "code",
      "metadata": {
        "colab": {
          "base_uri": "https://localhost:8080/",
          "height": 356
        },
        "id": "TuI1Pu-GQTMP",
        "outputId": "349c6b8a-e9d7-40bb-f110-5f4aca39b28f"
      },
      "source": [
        "#For Italy\n",
        "sns.set(rc={'figure.figsize':(18,5)}) # change the plot size (width, height)\n",
        "sns.lineplot(x='day', y='number', hue = 'type', data = vax_cases_corr_it)"
      ],
      "execution_count": null,
      "outputs": [
        {
          "output_type": "execute_result",
          "data": {
            "text/plain": [
              "<matplotlib.axes._subplots.AxesSubplot at 0x7f472e159a90>"
            ]
          },
          "metadata": {},
          "execution_count": 45
        },
        {
          "output_type": "display_data",
          "data": {
            "image/png": "[encoded data removed]",
            "text/plain": [
              "<Figure size 1296x360 with 1 Axes>"
            ]
          },
          "metadata": {}
        }
      ]
    },
    {
      "cell_type": "code",
      "metadata": {
        "colab": {
          "base_uri": "https://localhost:8080/",
          "height": 353
        },
        "id": "NGebG8b0d7ZO",
        "outputId": "3d560217-a3f2-4877-c828-c0526d76fef1"
      },
      "source": [
        "#For the US\n",
        "sns.set(rc={'figure.figsize':(18,5)}) # change the plot size (width, height)\n",
        "sns.lineplot(x='day', y='number', hue = 'type', data = vax_cases_corr_us)"
      ],
      "execution_count": null,
      "outputs": [
        {
          "output_type": "execute_result",
          "data": {
            "text/plain": [
              "<matplotlib.axes._subplots.AxesSubplot at 0x7f471f296990>"
            ]
          },
          "metadata": {},
          "execution_count": 46
        },
        {
          "output_type": "display_data",
          "data": {
            "image/png": "[encoded data removed]",
            "text/plain": [
              "<Figure size 1296x360 with 1 Axes>"
            ]
          },
          "metadata": {}
        }
      ]
    },
    {
      "cell_type": "markdown",
      "metadata": {
        "id": "XQ5V7ljvtHX1"
      },
      "source": [
        "It seems that there indeed is a relation between number of vaccinated people and covid cases/deaths (discussed in section 7). We can also plot a scatterplot relating the two variables against each other.\n",
        "\n",
        "First, with a SQL query we create a table (stored in a dataframe vax_vs_covid) with the following schema that connects the two datasets:\n",
        "\n",
        "vax_vs_covid(day, people_vaccinated, covid)\n"
      ]
    },
    {
      "cell_type": "code",
      "metadata": {
        "id": "posGCuzVuQOR"
      },
      "source": [
        "vax_vs_covid_it = run_sql('''\n",
        "SELECT vax_record.day, people_vaccinated AS vax, confirmed AS covid\n",
        "FROM vax_record, covid_record\n",
        "WHERE vax_record.day = covid_record.day AND \n",
        "      vax_record.country = \"Italy\" AND \n",
        "      covid_record.country = \"Italy\" AND \n",
        "      covid_record.day >= \"2020-09-01\"\n",
        "''')\n",
        "\n",
        "vax_vs_covid_us = run_sql('''\n",
        "SELECT vax_record.day, people_vaccinated AS vax, confirmed AS covid\n",
        "FROM vax_record, covid_record\n",
        "WHERE vax_record.day = covid_record.day AND \n",
        "      vax_record.country = \"United States\" AND \n",
        "      covid_record.country = \"United States\" AND \n",
        "      covid_record.day >= \"2020-09-01\"\n",
        "''')"
      ],
      "execution_count": null,
      "outputs": []
    },
    {
      "cell_type": "markdown",
      "metadata": {
        "id": "d2Io2yqAvlFx"
      },
      "source": [
        "Now we create a scatterplot with this data:"
      ]
    },
    {
      "cell_type": "code",
      "metadata": {
        "colab": {
          "base_uri": "https://localhost:8080/",
          "height": 353
        },
        "id": "WL0KfCMevoMC",
        "outputId": "5ed26ed3-39c8-4d1c-a979-7a0057b348c0"
      },
      "source": [
        "sns.scatterplot(x=\"vax\", y=\"covid\", data=vax_vs_covid_it)"
      ],
      "execution_count": null,
      "outputs": [
        {
          "output_type": "execute_result",
          "data": {
            "text/plain": [
              "<matplotlib.axes._subplots.AxesSubplot at 0x7f471fba2390>"
            ]
          },
          "metadata": {},
          "execution_count": 48
        },
        {
          "output_type": "display_data",
          "data": {
            "image/png": "[encoded data removed]",
            "text/plain": [
              "<Figure size 1296x360 with 1 Axes>"
            ]
          },
          "metadata": {}
        }
      ]
    },
    {
      "cell_type": "code",
      "metadata": {
        "colab": {
          "base_uri": "https://localhost:8080/",
          "height": 353
        },
        "id": "f9i2ysJNd7ZR",
        "outputId": "750d0aa9-4d08-4555-da75-8cbbcc92efe3"
      },
      "source": [
        "sns.scatterplot(x=\"vax\", y=\"covid\", data=vax_vs_covid_us)"
      ],
      "execution_count": null,
      "outputs": [
        {
          "output_type": "execute_result",
          "data": {
            "text/plain": [
              "<matplotlib.axes._subplots.AxesSubplot at 0x7f471ddd6f10>"
            ]
          },
          "metadata": {},
          "execution_count": 49
        },
        {
          "output_type": "display_data",
          "data": {
            "image/png": "[encoded data removed]",
            "text/plain": [
              "<Figure size 1296x360 with 1 Axes>"
            ]
          },
          "metadata": {}
        }
      ]
    },
    {
      "cell_type": "markdown",
      "metadata": {
        "id": "M-g2tdtPv5in"
      },
      "source": [
        "This scatterplot gives us false impression as if covid cases increase along vaccination numbers. The reason is that we have cumulative covid cases. It would make much more sense if we had daily covid cases"
      ]
    },
    {
      "cell_type": "markdown",
      "metadata": {
        "id": "wzkshgnnwarL"
      },
      "source": [
        "## 6.2 Types of vaccines used in the world in a time range\n",
        "\n",
        " Show the cumulative number of vaccinations administered in the world (as a function of time), clustered by\n",
        "manufacturer (i.e. one line for Sinovac, one line for Pfizer/BioNTech, ...).\n",
        "\n",
        "\n",
        "We can use only the vax_man table here without much complex queries:"
      ]
    },
    {
      "cell_type": "code",
      "metadata": {
        "colab": {
          "base_uri": "https://localhost:8080/",
          "height": 419
        },
        "id": "KrNOMlTGd7ZR",
        "outputId": "fcb42589-60c4-4c22-d8c5-32c3c2c7d76c"
      },
      "source": [
        "run_sql('''\n",
        "SELECT vaccine, day, total_vax\n",
        "FROM vax_man\n",
        "WHERE vaccine = \"Pfizer/BioNTech\"\n",
        "GROUP BY vaccine, day\n",
        "''')"
      ],
      "execution_count": null,
      "outputs": [
        {
          "output_type": "execute_result",
          "data": {
            "text/html": [
              "<div>\n",
              "<style scoped>\n",
              "    .dataframe tbody tr th:only-of-type {\n",
              "        vertical-align: middle;\n",
              "    }\n",
              "\n",
              "    .dataframe tbody tr th {\n",
              "        vertical-align: top;\n",
              "    }\n",
              "\n",
              "    .dataframe thead th {\n",
              "        text-align: right;\n",
              "    }\n",
              "</style>\n",
              "<table border=\"1\" class=\"dataframe\">\n",
              "  <thead>\n",
              "    <tr style=\"text-align: right;\">\n",
              "      <th></th>\n",
              "      <th>vaccine</th>\n",
              "      <th>day</th>\n",
              "      <th>total_vax</th>\n",
              "    </tr>\n",
              "  </thead>\n",
              "  <tbody>\n",
              "    <tr>\n",
              "      <th>0</th>\n",
              "      <td>Pfizer/BioNTech</td>\n",
              "      <td>2020-12-22</td>\n",
              "      <td>2.0</td>\n",
              "    </tr>\n",
              "    <tr>\n",
              "      <th>1</th>\n",
              "      <td>Pfizer/BioNTech</td>\n",
              "      <td>2020-12-23</td>\n",
              "      <td>427.0</td>\n",
              "    </tr>\n",
              "    <tr>\n",
              "      <th>2</th>\n",
              "      <td>Pfizer/BioNTech</td>\n",
              "      <td>2020-12-24</td>\n",
              "      <td>690.0</td>\n",
              "    </tr>\n",
              "    <tr>\n",
              "      <th>3</th>\n",
              "      <td>Pfizer/BioNTech</td>\n",
              "      <td>2020-12-25</td>\n",
              "      <td>690.0</td>\n",
              "    </tr>\n",
              "    <tr>\n",
              "      <th>4</th>\n",
              "      <td>Pfizer/BioNTech</td>\n",
              "      <td>2020-12-26</td>\n",
              "      <td>1126.0</td>\n",
              "    </tr>\n",
              "    <tr>\n",
              "      <th>...</th>\n",
              "      <td>...</td>\n",
              "      <td>...</td>\n",
              "      <td>...</td>\n",
              "    </tr>\n",
              "    <tr>\n",
              "      <th>255</th>\n",
              "      <td>Pfizer/BioNTech</td>\n",
              "      <td>2021-09-03</td>\n",
              "      <td>212319148.0</td>\n",
              "    </tr>\n",
              "    <tr>\n",
              "      <th>256</th>\n",
              "      <td>Pfizer/BioNTech</td>\n",
              "      <td>2021-09-04</td>\n",
              "      <td>212979842.0</td>\n",
              "    </tr>\n",
              "    <tr>\n",
              "      <th>257</th>\n",
              "      <td>Pfizer/BioNTech</td>\n",
              "      <td>2021-09-05</td>\n",
              "      <td>3270882.0</td>\n",
              "    </tr>\n",
              "    <tr>\n",
              "      <th>258</th>\n",
              "      <td>Pfizer/BioNTech</td>\n",
              "      <td>2021-09-06</td>\n",
              "      <td>3279275.0</td>\n",
              "    </tr>\n",
              "    <tr>\n",
              "      <th>259</th>\n",
              "      <td>Pfizer/BioNTech</td>\n",
              "      <td>2021-09-07</td>\n",
              "      <td>56414610.0</td>\n",
              "    </tr>\n",
              "  </tbody>\n",
              "</table>\n",
              "<p>260 rows × 3 columns</p>\n",
              "</div>"
            ],
            "text/plain": [
              "             vaccine         day    total_vax\n",
              "0    Pfizer/BioNTech  2020-12-22          2.0\n",
              "1    Pfizer/BioNTech  2020-12-23        427.0\n",
              "2    Pfizer/BioNTech  2020-12-24        690.0\n",
              "3    Pfizer/BioNTech  2020-12-25        690.0\n",
              "4    Pfizer/BioNTech  2020-12-26       1126.0\n",
              "..               ...         ...          ...\n",
              "255  Pfizer/BioNTech  2021-09-03  212319148.0\n",
              "256  Pfizer/BioNTech  2021-09-04  212979842.0\n",
              "257  Pfizer/BioNTech  2021-09-05    3270882.0\n",
              "258  Pfizer/BioNTech  2021-09-06    3279275.0\n",
              "259  Pfizer/BioNTech  2021-09-07   56414610.0\n",
              "\n",
              "[260 rows x 3 columns]"
            ]
          },
          "metadata": {},
          "execution_count": 50
        }
      ]
    },
    {
      "cell_type": "code",
      "metadata": {
        "colab": {
          "base_uri": "https://localhost:8080/",
          "height": 353
        },
        "id": "ILhSpj5Kw2pj",
        "outputId": "2f70f182-7b0b-4856-8f0d-d34be95ca8c6"
      },
      "source": [
        "vax_type = run_sql('''\n",
        "SELECT vaccine, day, total_vax\n",
        "FROM vax_man\n",
        "GROUP BY vaccine, day\n",
        "''')\n",
        "\n",
        "#needed to tell Seaborn that column \"day\" contains dates:\n",
        "vax_type['day'] = pd.to_datetime(vax_type['day'], format = '%Y-%m-%d')\n",
        "\n",
        "sns.set(rc={'figure.figsize':(18,5)}) # change the plot size (width, height)\n",
        "sns.lineplot(x='day', y='total_vax', hue = 'vaccine', data = vax_type)"
      ],
      "execution_count": null,
      "outputs": [
        {
          "output_type": "execute_result",
          "data": {
            "text/plain": [
              "<matplotlib.axes._subplots.AxesSubplot at 0x7f471f2d27d0>"
            ]
          },
          "metadata": {},
          "execution_count": 51
        },
        {
          "output_type": "display_data",
          "data": {
            "image/png": "[encoded data removed]",
            "text/plain": [
              "<Figure size 1296x360 with 1 Axes>"
            ]
          },
          "metadata": {}
        }
      ]
    },
    {
      "cell_type": "markdown",
      "metadata": {
        "id": "hdyUBxhdd7ZS"
      },
      "source": [
        "This graph suggests very interesting patterns. Discussed in Section 7"
      ]
    },
    {
      "cell_type": "markdown",
      "metadata": {
        "id": "1jWxvLfbd7ZS"
      },
      "source": [
        "## 6.3 Vaccination rates\n",
        "\n",
        "Choose a few countries and plot their relative vaccination rates as a function of time in the last few months\n",
        "(in one plot in order to compare them).\n",
        "\n",
        "Here, we can refer back to Section 5.1. We will do something very similar to that query here. We group by country and day, and also leave only four countries (for simplicity of the graph):"
      ]
    },
    {
      "cell_type": "code",
      "metadata": {
        "id": "577O_SVZd7ZS"
      },
      "source": [
        "vax_rate = run_sql(''' \n",
        "SELECT country, day, people_vaccinated / population AS VAX\n",
        "FROM vax_record, countries\n",
        "WHERE country = name and country IN (\"United States\", \"Italy\", \"Japan\", \"Chile\")\n",
        "GROUP BY country, day\n",
        "''')"
      ],
      "execution_count": null,
      "outputs": []
    },
    {
      "cell_type": "code",
      "metadata": {
        "colab": {
          "base_uri": "https://localhost:8080/",
          "height": 342
        },
        "id": "Bk_9ouKkd7ZS",
        "outputId": "8ddd245a-f92f-4e1c-87fb-2ddcec6f5714"
      },
      "source": [
        "#needed to tell Seaborn that column \"day\" contains dates:\n",
        "vax_rate['day'] = pd.to_datetime(vax_rate['day'], format = '%Y-%m-%d')\n",
        "\n",
        "sns.set(rc={'figure.figsize':(18,5)}) # change the plot size (width, height)\n",
        "sns.lineplot(x='day', y='VAX', hue = 'country', data = vax_rate)"
      ],
      "execution_count": null,
      "outputs": [
        {
          "output_type": "execute_result",
          "data": {
            "text/plain": [
              "<matplotlib.axes._subplots.AxesSubplot at 0x7f471ed98450>"
            ]
          },
          "metadata": {},
          "execution_count": 53
        },
        {
          "output_type": "display_data",
          "data": {
            "image/png": "[encoded data removed]",
            "text/plain": [
              "<Figure size 1296x360 with 1 Axes>"
            ]
          },
          "metadata": {}
        }
      ]
    },
    {
      "cell_type": "markdown",
      "metadata": {
        "id": "9fwP1MUkd7ZT"
      },
      "source": [
        "## 6.4 Additional observations (excess mortality)\n",
        "\n",
        "I have decided to investigate the relationship between the officially confirmed covid deaths and the excess mortality rate reported by different countries with different socio-economic situations.\n",
        "\n",
        "I will be using the data from Financial Times:\n",
        "    https://raw.githubusercontent.com/Financial-Times/coronavirus-excess-mortality-data/master/data/ft_excess_deaths.csv\n",
        "\n",
        "I will use data in comparison with the data we already have (i.e: covid.csv).\n",
        "\n",
        "In detail, I want to see the realtionship in a lineplot between excess death and confirmed covid deaths."
      ]
    },
    {
      "cell_type": "markdown",
      "metadata": {
        "id": "8Xj7kO8sd7ZT"
      },
      "source": [
        "I first create a new table named excess_mort (similar structure to the table from Section 6.1):\n",
        "\n",
        "(logical design: excess_mort(day, country, confirmed_death, excess_death))"
      ]
    },
    {
      "cell_type": "code",
      "metadata": {
        "id": "BxhtUijId7ZT"
      },
      "source": [
        "run_sql('''\n",
        "CREATE TABLE excess_mort (\n",
        "  day DATE,\n",
        "  country VARCHAR(50) references countries(name) on delete cascade on update cascade,\n",
        "  num INT,\n",
        "  type VARCHAR(20),\n",
        "  primary key(day, country, type)\n",
        ");\n",
        "''');"
      ],
      "execution_count": null,
      "outputs": []
    },
    {
      "cell_type": "markdown",
      "metadata": {
        "id": "zLkWom8gd7ZT"
      },
      "source": [
        "Now I will read the csv from the source and store it as \"data\":"
      ]
    },
    {
      "cell_type": "code",
      "metadata": {
        "id": "hMayazRsd7ZT"
      },
      "source": [
        "data = pd.read_csv(\"https://raw.githubusercontent.com/Financial-Times/coronavirus-excess-mortality-data/master/data/ft_excess_deaths.csv\")"
      ],
      "execution_count": null,
      "outputs": []
    },
    {
      "cell_type": "markdown",
      "metadata": {
        "id": "HcbkJhaRd7ZT"
      },
      "source": [
        "Convert data into SQL table:"
      ]
    },
    {
      "cell_type": "code",
      "metadata": {
        "id": "RLdEIJDCd7ZT"
      },
      "source": [
        "dataframe_to_table(data, \"data\")"
      ],
      "execution_count": null,
      "outputs": []
    },
    {
      "cell_type": "code",
      "metadata": {
        "colab": {
          "base_uri": "https://localhost:8080/",
          "height": 609
        },
        "id": "cRnsO5isd7ZU",
        "outputId": "7bbd10e2-05fc-485a-8d65-a5f7865a827e"
      },
      "source": [
        "run_sql('''\n",
        "SELECT *\n",
        "FROM data\n",
        "''')"
      ],
      "execution_count": null,
      "outputs": [
        {
          "output_type": "execute_result",
          "data": {
            "text/html": [
              "<div>\n",
              "<style scoped>\n",
              "    .dataframe tbody tr th:only-of-type {\n",
              "        vertical-align: middle;\n",
              "    }\n",
              "\n",
              "    .dataframe tbody tr th {\n",
              "        vertical-align: top;\n",
              "    }\n",
              "\n",
              "    .dataframe thead th {\n",
              "        text-align: right;\n",
              "    }\n",
              "</style>\n",
              "<table border=\"1\" class=\"dataframe\">\n",
              "  <thead>\n",
              "    <tr style=\"text-align: right;\">\n",
              "      <th></th>\n",
              "      <th>country</th>\n",
              "      <th>region</th>\n",
              "      <th>period</th>\n",
              "      <th>year</th>\n",
              "      <th>month</th>\n",
              "      <th>week</th>\n",
              "      <th>date</th>\n",
              "      <th>deaths</th>\n",
              "      <th>expected_deaths</th>\n",
              "      <th>excess_deaths</th>\n",
              "      <th>total_excess_deaths_pct</th>\n",
              "    </tr>\n",
              "  </thead>\n",
              "  <tbody>\n",
              "    <tr>\n",
              "      <th>0</th>\n",
              "      <td>Albania</td>\n",
              "      <td>Albania</td>\n",
              "      <td>month</td>\n",
              "      <td>2015</td>\n",
              "      <td>1.0</td>\n",
              "      <td>NaN</td>\n",
              "      <td>2015-01-31</td>\n",
              "      <td>2490.0</td>\n",
              "      <td>NaN</td>\n",
              "      <td>NaN</td>\n",
              "      <td>42.547724</td>\n",
              "    </tr>\n",
              "    <tr>\n",
              "      <th>1</th>\n",
              "      <td>Albania</td>\n",
              "      <td>Albania</td>\n",
              "      <td>month</td>\n",
              "      <td>2015</td>\n",
              "      <td>2.0</td>\n",
              "      <td>NaN</td>\n",
              "      <td>2015-02-28</td>\n",
              "      <td>2139.0</td>\n",
              "      <td>NaN</td>\n",
              "      <td>NaN</td>\n",
              "      <td>42.547724</td>\n",
              "    </tr>\n",
              "    <tr>\n",
              "      <th>2</th>\n",
              "      <td>Albania</td>\n",
              "      <td>Albania</td>\n",
              "      <td>month</td>\n",
              "      <td>2015</td>\n",
              "      <td>3.0</td>\n",
              "      <td>NaN</td>\n",
              "      <td>2015-03-31</td>\n",
              "      <td>2051.0</td>\n",
              "      <td>NaN</td>\n",
              "      <td>NaN</td>\n",
              "      <td>42.547724</td>\n",
              "    </tr>\n",
              "    <tr>\n",
              "      <th>3</th>\n",
              "      <td>Albania</td>\n",
              "      <td>Albania</td>\n",
              "      <td>month</td>\n",
              "      <td>2015</td>\n",
              "      <td>4.0</td>\n",
              "      <td>NaN</td>\n",
              "      <td>2015-04-30</td>\n",
              "      <td>1906.0</td>\n",
              "      <td>NaN</td>\n",
              "      <td>NaN</td>\n",
              "      <td>42.547724</td>\n",
              "    </tr>\n",
              "    <tr>\n",
              "      <th>4</th>\n",
              "      <td>Albania</td>\n",
              "      <td>Albania</td>\n",
              "      <td>month</td>\n",
              "      <td>2015</td>\n",
              "      <td>5.0</td>\n",
              "      <td>NaN</td>\n",
              "      <td>2015-05-31</td>\n",
              "      <td>1709.0</td>\n",
              "      <td>NaN</td>\n",
              "      <td>NaN</td>\n",
              "      <td>42.547724</td>\n",
              "    </tr>\n",
              "    <tr>\n",
              "      <th>...</th>\n",
              "      <td>...</td>\n",
              "      <td>...</td>\n",
              "      <td>...</td>\n",
              "      <td>...</td>\n",
              "      <td>...</td>\n",
              "      <td>...</td>\n",
              "      <td>...</td>\n",
              "      <td>...</td>\n",
              "      <td>...</td>\n",
              "      <td>...</td>\n",
              "      <td>...</td>\n",
              "    </tr>\n",
              "    <tr>\n",
              "      <th>109407</th>\n",
              "      <td>Uzbekistan</td>\n",
              "      <td>Uzbekistan</td>\n",
              "      <td>month</td>\n",
              "      <td>2020</td>\n",
              "      <td>11.0</td>\n",
              "      <td>NaN</td>\n",
              "      <td>2020-11-30</td>\n",
              "      <td>14204.0</td>\n",
              "      <td>12813.071935</td>\n",
              "      <td>1390.928065</td>\n",
              "      <td>13.257817</td>\n",
              "    </tr>\n",
              "    <tr>\n",
              "      <th>109408</th>\n",
              "      <td>Uzbekistan</td>\n",
              "      <td>Uzbekistan</td>\n",
              "      <td>month</td>\n",
              "      <td>2020</td>\n",
              "      <td>12.0</td>\n",
              "      <td>NaN</td>\n",
              "      <td>2020-12-31</td>\n",
              "      <td>19938.0</td>\n",
              "      <td>18446.674288</td>\n",
              "      <td>1491.325712</td>\n",
              "      <td>13.257817</td>\n",
              "    </tr>\n",
              "    <tr>\n",
              "      <th>109409</th>\n",
              "      <td>Uzbekistan</td>\n",
              "      <td>Uzbekistan</td>\n",
              "      <td>month</td>\n",
              "      <td>2021</td>\n",
              "      <td>1.0</td>\n",
              "      <td>NaN</td>\n",
              "      <td>2021-01-31</td>\n",
              "      <td>11921.0</td>\n",
              "      <td>10205.343235</td>\n",
              "      <td>1715.656765</td>\n",
              "      <td>13.257817</td>\n",
              "    </tr>\n",
              "    <tr>\n",
              "      <th>109410</th>\n",
              "      <td>Uzbekistan</td>\n",
              "      <td>Uzbekistan</td>\n",
              "      <td>month</td>\n",
              "      <td>2021</td>\n",
              "      <td>2.0</td>\n",
              "      <td>NaN</td>\n",
              "      <td>2021-02-28</td>\n",
              "      <td>14002.0</td>\n",
              "      <td>13471.061201</td>\n",
              "      <td>530.938799</td>\n",
              "      <td>13.257817</td>\n",
              "    </tr>\n",
              "    <tr>\n",
              "      <th>109411</th>\n",
              "      <td>Uzbekistan</td>\n",
              "      <td>Uzbekistan</td>\n",
              "      <td>month</td>\n",
              "      <td>2021</td>\n",
              "      <td>3.0</td>\n",
              "      <td>NaN</td>\n",
              "      <td>2021-03-31</td>\n",
              "      <td>13676.0</td>\n",
              "      <td>13681.625621</td>\n",
              "      <td>-5.625621</td>\n",
              "      <td>13.257817</td>\n",
              "    </tr>\n",
              "  </tbody>\n",
              "</table>\n",
              "<p>109412 rows × 11 columns</p>\n",
              "</div>"
            ],
            "text/plain": [
              "           country      region  ... excess_deaths  total_excess_deaths_pct\n",
              "0          Albania     Albania  ...           NaN                42.547724\n",
              "1          Albania     Albania  ...           NaN                42.547724\n",
              "2          Albania     Albania  ...           NaN                42.547724\n",
              "3          Albania     Albania  ...           NaN                42.547724\n",
              "4          Albania     Albania  ...           NaN                42.547724\n",
              "...            ...         ...  ...           ...                      ...\n",
              "109407  Uzbekistan  Uzbekistan  ...   1390.928065                13.257817\n",
              "109408  Uzbekistan  Uzbekistan  ...   1491.325712                13.257817\n",
              "109409  Uzbekistan  Uzbekistan  ...   1715.656765                13.257817\n",
              "109410  Uzbekistan  Uzbekistan  ...    530.938799                13.257817\n",
              "109411  Uzbekistan  Uzbekistan  ...     -5.625621                13.257817\n",
              "\n",
              "[109412 rows x 11 columns]"
            ]
          },
          "metadata": {},
          "execution_count": 57
        }
      ]
    },
    {
      "cell_type": "markdown",
      "metadata": {
        "id": "UQUIsdDNd7ZU"
      },
      "source": [
        "At this point, I will recreate that covid_tmp dataframe I dropped a while ago:"
      ]
    },
    {
      "cell_type": "code",
      "metadata": {
        "id": "gmfFnAFdd7ZU"
      },
      "source": [
        "dataframe_to_table(covid_df,\"covid_tmp\") "
      ],
      "execution_count": null,
      "outputs": []
    },
    {
      "cell_type": "markdown",
      "metadata": {
        "id": "cjG9HQg8d7ZU"
      },
      "source": [
        "Next, I will insert selected data into my excess_mort table. I have decided to select a few Nordic countries and compare them to Russia and Uzbekistan. First I insert values from covid_tmp:"
      ]
    },
    {
      "cell_type": "code",
      "metadata": {
        "id": "zgdTn-Cbd7ZU"
      },
      "source": [
        "run_sql('''\n",
        "INSERT INTO excess_mort\n",
        "SELECT \"date\", country, max(deaths), \"reported_deaths\" \n",
        "FROM covid_tmp\n",
        "WHERE country IN (\"Norway\", \"Denmark\", \"Sweden\", \"Russia\", \"Uzbekistan\") AND \"date\" >= \"2020-03-01\"\n",
        "GROUP BY \"date\", country\n",
        "HAVING max(deaths) >= 0\n",
        "''')"
      ],
      "execution_count": null,
      "outputs": []
    },
    {
      "cell_type": "markdown",
      "metadata": {
        "id": "7V2HAtdHd7ZV"
      },
      "source": [
        "Now, insert values from table \"data\":"
      ]
    },
    {
      "cell_type": "code",
      "metadata": {
        "id": "Prxd4pb_d7ZW"
      },
      "source": [
        "run_sql('''\n",
        "INSERT INTO excess_mort\n",
        "SELECT \"date\", country, excess_deaths, \"excess_death\" \n",
        "FROM data\n",
        "WHERE country IN (\"Norway\", \"Denmark\", \"Sweden\", \"Russia\", \"Uzbekistan\") AND \"date\" >= \"2020-03-01\"\n",
        "GROUP BY \"date\", country\n",
        "''')"
      ],
      "execution_count": null,
      "outputs": []
    },
    {
      "cell_type": "markdown",
      "metadata": {
        "id": "VUeFhvYJd7ZY"
      },
      "source": [
        "Create a data fram out of this table:"
      ]
    },
    {
      "cell_type": "code",
      "metadata": {
        "id": "ZmgJj2b3d7ZY"
      },
      "source": [
        "corr_df = run_sql('''\n",
        "SELECT * \n",
        "FROM excess_mort\n",
        "''')"
      ],
      "execution_count": null,
      "outputs": []
    },
    {
      "cell_type": "code",
      "metadata": {
        "colab": {
          "base_uri": "https://localhost:8080/",
          "height": 335
        },
        "id": "0WQOsG6Ad7ZZ",
        "outputId": "501c73ad-936a-4365-f7f1-52298983e398"
      },
      "source": [
        "corr_df['day'] = pd.to_datetime(corr_df['day'], format = '%Y-%m-%d')\n",
        "\n",
        "sns.set(rc={'figure.figsize':(18,5)}) # change the plot size (width, height)\n",
        "sns.lineplot(x='day', y='num', hue = 'country', style='type', data = corr_df)"
      ],
      "execution_count": null,
      "outputs": [
        {
          "output_type": "execute_result",
          "data": {
            "text/plain": [
              "<matplotlib.axes._subplots.AxesSubplot at 0x7f471f7008d0>"
            ]
          },
          "metadata": {},
          "execution_count": 62
        },
        {
          "output_type": "display_data",
          "data": {
            "image/png": "[encoded data removed]",
            "text/plain": [
              "<Figure size 1296x360 with 1 Axes>"
            ]
          },
          "metadata": {}
        }
      ]
    },
    {
      "cell_type": "markdown",
      "metadata": {
        "id": "KnXtdiztd7ZZ"
      },
      "source": [
        "Unfortunately, the graph does not seem to be an insightful one. The reason as I figured out is becuase we have cumulative covid deaths, while the excess death is clustered into weaks or months. Did we have such clustered data available, the results would be much mor interesting"
      ]
    },
    {
      "cell_type": "markdown",
      "metadata": {
        "id": "b4jS9hXrVAWb"
      },
      "source": [
        "# 7. Discussion\n",
        "\n",
        "The relationship we obeserved in section 6.1 confirms that there is indeed a correlation between vaccination numbers and covid cases/deaths. As seen in the graph, with the start of vaccination campaigns, the covid cases and covid deaths started to plateau. Until then, they were in constatnt increase. Also, the graph shows that vaccination numbers are growing way too fast than covid cases, which could be interpreted as a success of the vaccination campaigns in both countries.\n",
        "\n",
        "As for the visual graphs of the section 6.2 about the vaccine manufacturers, it is particularly interesting because of a few reasons. First, we can observe that the most popular vaccine in the world has been Pfizer/BioNTech. Also, the lineplot shows us that Moderna, Pfizer and AstraZeneca vaccines constantly fall in number by following a certain pattern. Exploring the reason behind this falls is very desirable for further research into the topic. And finally, we can see that the Pfizer vaccine is undergoing another steep fall in numbers (on Sept 6th, it went down 10 times in number compared to a day before). As a prediction, it can be attributed, among other things, to production and logistic aspects.\n",
        "\n",
        "The graph of section 6.3 illustrates that all four countries are constantly vaccinating more and more percentage of their population. It also shows that all countries have already vaccinated more than 60% of their population (in the case of Chile, it is over 70% already) \n",
        "\n",
        "Section 6.4. In this section, my initial plan was to find out if there were any falsified numbers being reported by some countries. To identify this, I tried to use the excess mortality data from different countries and compare those results against officially reported covid deaths. "
      ]
    },
    {
      "cell_type": "code",
      "metadata": {
        "id": "p5f2RLSphFav"
      },
      "source": [
        ""
      ],
      "execution_count": null,
      "outputs": []
    }
  ]
}